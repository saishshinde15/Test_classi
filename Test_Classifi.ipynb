{
  "nbformat": 4,
  "nbformat_minor": 0,
  "metadata": {
    "colab": {
      "provenance": []
    },
    "kernelspec": {
      "name": "python3",
      "display_name": "Python 3"
    },
    "language_info": {
      "name": "python"
    }
  },
  "cells": [
    {
      "cell_type": "code",
      "execution_count": 1,
      "metadata": {
        "id": "-lL0viKbxrTC"
      },
      "outputs": [],
      "source": [
        "import pandas as pd\n",
        "import numpy as np\n",
        "import matplotlib.pyplot as plt\n",
        "import seaborn as sns\n",
        "import tensorflow as tf\n",
        "%matplotlib inline"
      ]
    },
    {
      "cell_type": "code",
      "source": [
        "dataset=pd.read_csv('cs448b_ipasn.csv')"
      ],
      "metadata": {
        "id": "yBvY5iJXxtsl"
      },
      "execution_count": 2,
      "outputs": []
    },
    {
      "cell_type": "code",
      "source": [
        "dataset"
      ],
      "metadata": {
        "colab": {
          "base_uri": "https://localhost:8080/",
          "height": 419
        },
        "id": "lfqIplOIxyr9",
        "outputId": "8de10bed-b626-4e4c-b7de-dbe244736561"
      },
      "execution_count": 3,
      "outputs": [
        {
          "output_type": "execute_result",
          "data": {
            "text/plain": [
              "             date  l_ipn  r_asn  f\n",
              "0      2006-07-01      0    701  1\n",
              "1      2006-07-01      0    714  1\n",
              "2      2006-07-01      0   1239  1\n",
              "3      2006-07-01      0   1680  1\n",
              "4      2006-07-01      0   2514  1\n",
              "...           ...    ...    ... ..\n",
              "20798  2006-09-30      8  36351  3\n",
              "20799  2006-09-30      8  36856  4\n",
              "20800  2006-09-30      9   2152  1\n",
              "20801  2006-09-30      9   8070  1\n",
              "20802  2006-09-30      9   8075  2\n",
              "\n",
              "[20803 rows x 4 columns]"
            ],
            "text/html": [
              "\n",
              "  <div id=\"df-1295f8e3-80e3-4177-abd6-2186f3a20575\" class=\"colab-df-container\">\n",
              "    <div>\n",
              "<style scoped>\n",
              "    .dataframe tbody tr th:only-of-type {\n",
              "        vertical-align: middle;\n",
              "    }\n",
              "\n",
              "    .dataframe tbody tr th {\n",
              "        vertical-align: top;\n",
              "    }\n",
              "\n",
              "    .dataframe thead th {\n",
              "        text-align: right;\n",
              "    }\n",
              "</style>\n",
              "<table border=\"1\" class=\"dataframe\">\n",
              "  <thead>\n",
              "    <tr style=\"text-align: right;\">\n",
              "      <th></th>\n",
              "      <th>date</th>\n",
              "      <th>l_ipn</th>\n",
              "      <th>r_asn</th>\n",
              "      <th>f</th>\n",
              "    </tr>\n",
              "  </thead>\n",
              "  <tbody>\n",
              "    <tr>\n",
              "      <th>0</th>\n",
              "      <td>2006-07-01</td>\n",
              "      <td>0</td>\n",
              "      <td>701</td>\n",
              "      <td>1</td>\n",
              "    </tr>\n",
              "    <tr>\n",
              "      <th>1</th>\n",
              "      <td>2006-07-01</td>\n",
              "      <td>0</td>\n",
              "      <td>714</td>\n",
              "      <td>1</td>\n",
              "    </tr>\n",
              "    <tr>\n",
              "      <th>2</th>\n",
              "      <td>2006-07-01</td>\n",
              "      <td>0</td>\n",
              "      <td>1239</td>\n",
              "      <td>1</td>\n",
              "    </tr>\n",
              "    <tr>\n",
              "      <th>3</th>\n",
              "      <td>2006-07-01</td>\n",
              "      <td>0</td>\n",
              "      <td>1680</td>\n",
              "      <td>1</td>\n",
              "    </tr>\n",
              "    <tr>\n",
              "      <th>4</th>\n",
              "      <td>2006-07-01</td>\n",
              "      <td>0</td>\n",
              "      <td>2514</td>\n",
              "      <td>1</td>\n",
              "    </tr>\n",
              "    <tr>\n",
              "      <th>...</th>\n",
              "      <td>...</td>\n",
              "      <td>...</td>\n",
              "      <td>...</td>\n",
              "      <td>...</td>\n",
              "    </tr>\n",
              "    <tr>\n",
              "      <th>20798</th>\n",
              "      <td>2006-09-30</td>\n",
              "      <td>8</td>\n",
              "      <td>36351</td>\n",
              "      <td>3</td>\n",
              "    </tr>\n",
              "    <tr>\n",
              "      <th>20799</th>\n",
              "      <td>2006-09-30</td>\n",
              "      <td>8</td>\n",
              "      <td>36856</td>\n",
              "      <td>4</td>\n",
              "    </tr>\n",
              "    <tr>\n",
              "      <th>20800</th>\n",
              "      <td>2006-09-30</td>\n",
              "      <td>9</td>\n",
              "      <td>2152</td>\n",
              "      <td>1</td>\n",
              "    </tr>\n",
              "    <tr>\n",
              "      <th>20801</th>\n",
              "      <td>2006-09-30</td>\n",
              "      <td>9</td>\n",
              "      <td>8070</td>\n",
              "      <td>1</td>\n",
              "    </tr>\n",
              "    <tr>\n",
              "      <th>20802</th>\n",
              "      <td>2006-09-30</td>\n",
              "      <td>9</td>\n",
              "      <td>8075</td>\n",
              "      <td>2</td>\n",
              "    </tr>\n",
              "  </tbody>\n",
              "</table>\n",
              "<p>20803 rows × 4 columns</p>\n",
              "</div>\n",
              "    <div class=\"colab-df-buttons\">\n",
              "\n",
              "  <div class=\"colab-df-container\">\n",
              "    <button class=\"colab-df-convert\" onclick=\"convertToInteractive('df-1295f8e3-80e3-4177-abd6-2186f3a20575')\"\n",
              "            title=\"Convert this dataframe to an interactive table.\"\n",
              "            style=\"display:none;\">\n",
              "\n",
              "  <svg xmlns=\"http://www.w3.org/2000/svg\" height=\"24px\" viewBox=\"0 -960 960 960\">\n",
              "    <path d=\"M120-120v-720h720v720H120Zm60-500h600v-160H180v160Zm220 220h160v-160H400v160Zm0 220h160v-160H400v160ZM180-400h160v-160H180v160Zm440 0h160v-160H620v160ZM180-180h160v-160H180v160Zm440 0h160v-160H620v160Z\"/>\n",
              "  </svg>\n",
              "    </button>\n",
              "\n",
              "  <style>\n",
              "    .colab-df-container {\n",
              "      display:flex;\n",
              "      gap: 12px;\n",
              "    }\n",
              "\n",
              "    .colab-df-convert {\n",
              "      background-color: #E8F0FE;\n",
              "      border: none;\n",
              "      border-radius: 50%;\n",
              "      cursor: pointer;\n",
              "      display: none;\n",
              "      fill: #1967D2;\n",
              "      height: 32px;\n",
              "      padding: 0 0 0 0;\n",
              "      width: 32px;\n",
              "    }\n",
              "\n",
              "    .colab-df-convert:hover {\n",
              "      background-color: #E2EBFA;\n",
              "      box-shadow: 0px 1px 2px rgba(60, 64, 67, 0.3), 0px 1px 3px 1px rgba(60, 64, 67, 0.15);\n",
              "      fill: #174EA6;\n",
              "    }\n",
              "\n",
              "    .colab-df-buttons div {\n",
              "      margin-bottom: 4px;\n",
              "    }\n",
              "\n",
              "    [theme=dark] .colab-df-convert {\n",
              "      background-color: #3B4455;\n",
              "      fill: #D2E3FC;\n",
              "    }\n",
              "\n",
              "    [theme=dark] .colab-df-convert:hover {\n",
              "      background-color: #434B5C;\n",
              "      box-shadow: 0px 1px 3px 1px rgba(0, 0, 0, 0.15);\n",
              "      filter: drop-shadow(0px 1px 2px rgba(0, 0, 0, 0.3));\n",
              "      fill: #FFFFFF;\n",
              "    }\n",
              "  </style>\n",
              "\n",
              "    <script>\n",
              "      const buttonEl =\n",
              "        document.querySelector('#df-1295f8e3-80e3-4177-abd6-2186f3a20575 button.colab-df-convert');\n",
              "      buttonEl.style.display =\n",
              "        google.colab.kernel.accessAllowed ? 'block' : 'none';\n",
              "\n",
              "      async function convertToInteractive(key) {\n",
              "        const element = document.querySelector('#df-1295f8e3-80e3-4177-abd6-2186f3a20575');\n",
              "        const dataTable =\n",
              "          await google.colab.kernel.invokeFunction('convertToInteractive',\n",
              "                                                    [key], {});\n",
              "        if (!dataTable) return;\n",
              "\n",
              "        const docLinkHtml = 'Like what you see? Visit the ' +\n",
              "          '<a target=\"_blank\" href=https://colab.research.google.com/notebooks/data_table.ipynb>data table notebook</a>'\n",
              "          + ' to learn more about interactive tables.';\n",
              "        element.innerHTML = '';\n",
              "        dataTable['output_type'] = 'display_data';\n",
              "        await google.colab.output.renderOutput(dataTable, element);\n",
              "        const docLink = document.createElement('div');\n",
              "        docLink.innerHTML = docLinkHtml;\n",
              "        element.appendChild(docLink);\n",
              "      }\n",
              "    </script>\n",
              "  </div>\n",
              "\n",
              "\n",
              "<div id=\"df-2f92d093-f2f0-420d-8a7d-a2cbb6f9800d\">\n",
              "  <button class=\"colab-df-quickchart\" onclick=\"quickchart('df-2f92d093-f2f0-420d-8a7d-a2cbb6f9800d')\"\n",
              "            title=\"Suggest charts.\"\n",
              "            style=\"display:none;\">\n",
              "\n",
              "<svg xmlns=\"http://www.w3.org/2000/svg\" height=\"24px\"viewBox=\"0 0 24 24\"\n",
              "     width=\"24px\">\n",
              "    <g>\n",
              "        <path d=\"M19 3H5c-1.1 0-2 .9-2 2v14c0 1.1.9 2 2 2h14c1.1 0 2-.9 2-2V5c0-1.1-.9-2-2-2zM9 17H7v-7h2v7zm4 0h-2V7h2v10zm4 0h-2v-4h2v4z\"/>\n",
              "    </g>\n",
              "</svg>\n",
              "  </button>\n",
              "\n",
              "<style>\n",
              "  .colab-df-quickchart {\n",
              "      --bg-color: #E8F0FE;\n",
              "      --fill-color: #1967D2;\n",
              "      --hover-bg-color: #E2EBFA;\n",
              "      --hover-fill-color: #174EA6;\n",
              "      --disabled-fill-color: #AAA;\n",
              "      --disabled-bg-color: #DDD;\n",
              "  }\n",
              "\n",
              "  [theme=dark] .colab-df-quickchart {\n",
              "      --bg-color: #3B4455;\n",
              "      --fill-color: #D2E3FC;\n",
              "      --hover-bg-color: #434B5C;\n",
              "      --hover-fill-color: #FFFFFF;\n",
              "      --disabled-bg-color: #3B4455;\n",
              "      --disabled-fill-color: #666;\n",
              "  }\n",
              "\n",
              "  .colab-df-quickchart {\n",
              "    background-color: var(--bg-color);\n",
              "    border: none;\n",
              "    border-radius: 50%;\n",
              "    cursor: pointer;\n",
              "    display: none;\n",
              "    fill: var(--fill-color);\n",
              "    height: 32px;\n",
              "    padding: 0;\n",
              "    width: 32px;\n",
              "  }\n",
              "\n",
              "  .colab-df-quickchart:hover {\n",
              "    background-color: var(--hover-bg-color);\n",
              "    box-shadow: 0 1px 2px rgba(60, 64, 67, 0.3), 0 1px 3px 1px rgba(60, 64, 67, 0.15);\n",
              "    fill: var(--button-hover-fill-color);\n",
              "  }\n",
              "\n",
              "  .colab-df-quickchart-complete:disabled,\n",
              "  .colab-df-quickchart-complete:disabled:hover {\n",
              "    background-color: var(--disabled-bg-color);\n",
              "    fill: var(--disabled-fill-color);\n",
              "    box-shadow: none;\n",
              "  }\n",
              "\n",
              "  .colab-df-spinner {\n",
              "    border: 2px solid var(--fill-color);\n",
              "    border-color: transparent;\n",
              "    border-bottom-color: var(--fill-color);\n",
              "    animation:\n",
              "      spin 1s steps(1) infinite;\n",
              "  }\n",
              "\n",
              "  @keyframes spin {\n",
              "    0% {\n",
              "      border-color: transparent;\n",
              "      border-bottom-color: var(--fill-color);\n",
              "      border-left-color: var(--fill-color);\n",
              "    }\n",
              "    20% {\n",
              "      border-color: transparent;\n",
              "      border-left-color: var(--fill-color);\n",
              "      border-top-color: var(--fill-color);\n",
              "    }\n",
              "    30% {\n",
              "      border-color: transparent;\n",
              "      border-left-color: var(--fill-color);\n",
              "      border-top-color: var(--fill-color);\n",
              "      border-right-color: var(--fill-color);\n",
              "    }\n",
              "    40% {\n",
              "      border-color: transparent;\n",
              "      border-right-color: var(--fill-color);\n",
              "      border-top-color: var(--fill-color);\n",
              "    }\n",
              "    60% {\n",
              "      border-color: transparent;\n",
              "      border-right-color: var(--fill-color);\n",
              "    }\n",
              "    80% {\n",
              "      border-color: transparent;\n",
              "      border-right-color: var(--fill-color);\n",
              "      border-bottom-color: var(--fill-color);\n",
              "    }\n",
              "    90% {\n",
              "      border-color: transparent;\n",
              "      border-bottom-color: var(--fill-color);\n",
              "    }\n",
              "  }\n",
              "</style>\n",
              "\n",
              "  <script>\n",
              "    async function quickchart(key) {\n",
              "      const quickchartButtonEl =\n",
              "        document.querySelector('#' + key + ' button');\n",
              "      quickchartButtonEl.disabled = true;  // To prevent multiple clicks.\n",
              "      quickchartButtonEl.classList.add('colab-df-spinner');\n",
              "      try {\n",
              "        const charts = await google.colab.kernel.invokeFunction(\n",
              "            'suggestCharts', [key], {});\n",
              "      } catch (error) {\n",
              "        console.error('Error during call to suggestCharts:', error);\n",
              "      }\n",
              "      quickchartButtonEl.classList.remove('colab-df-spinner');\n",
              "      quickchartButtonEl.classList.add('colab-df-quickchart-complete');\n",
              "    }\n",
              "    (() => {\n",
              "      let quickchartButtonEl =\n",
              "        document.querySelector('#df-2f92d093-f2f0-420d-8a7d-a2cbb6f9800d button');\n",
              "      quickchartButtonEl.style.display =\n",
              "        google.colab.kernel.accessAllowed ? 'block' : 'none';\n",
              "    })();\n",
              "  </script>\n",
              "</div>\n",
              "    </div>\n",
              "  </div>\n"
            ]
          },
          "metadata": {},
          "execution_count": 3
        }
      ]
    },
    {
      "cell_type": "code",
      "source": [
        "dataset=dataset.drop(['date'],axis=1)"
      ],
      "metadata": {
        "id": "_RoyI14sx1iN"
      },
      "execution_count": 4,
      "outputs": []
    },
    {
      "cell_type": "markdown",
      "source": [
        "##l_ipn: local IP (coded as an integer from 0-9)\n",
        "##r_asn: remote ASN (an integer which identifies the remote ISP)\n",
        "##f: flows (count of connnections for that day)\n",
        "\n"
      ],
      "metadata": {
        "id": "cChLI2QTx7fj"
      }
    },
    {
      "cell_type": "code",
      "source": [
        "dataset"
      ],
      "metadata": {
        "colab": {
          "base_uri": "https://localhost:8080/",
          "height": 419
        },
        "id": "MhSR9C19x-cL",
        "outputId": "7d921783-3404-4734-9495-3fb8b6436f5a"
      },
      "execution_count": 5,
      "outputs": [
        {
          "output_type": "execute_result",
          "data": {
            "text/plain": [
              "       l_ipn  r_asn  f\n",
              "0          0    701  1\n",
              "1          0    714  1\n",
              "2          0   1239  1\n",
              "3          0   1680  1\n",
              "4          0   2514  1\n",
              "...      ...    ... ..\n",
              "20798      8  36351  3\n",
              "20799      8  36856  4\n",
              "20800      9   2152  1\n",
              "20801      9   8070  1\n",
              "20802      9   8075  2\n",
              "\n",
              "[20803 rows x 3 columns]"
            ],
            "text/html": [
              "\n",
              "  <div id=\"df-63d79ac7-14e0-4bd2-b6e6-1e59ffb4db5b\" class=\"colab-df-container\">\n",
              "    <div>\n",
              "<style scoped>\n",
              "    .dataframe tbody tr th:only-of-type {\n",
              "        vertical-align: middle;\n",
              "    }\n",
              "\n",
              "    .dataframe tbody tr th {\n",
              "        vertical-align: top;\n",
              "    }\n",
              "\n",
              "    .dataframe thead th {\n",
              "        text-align: right;\n",
              "    }\n",
              "</style>\n",
              "<table border=\"1\" class=\"dataframe\">\n",
              "  <thead>\n",
              "    <tr style=\"text-align: right;\">\n",
              "      <th></th>\n",
              "      <th>l_ipn</th>\n",
              "      <th>r_asn</th>\n",
              "      <th>f</th>\n",
              "    </tr>\n",
              "  </thead>\n",
              "  <tbody>\n",
              "    <tr>\n",
              "      <th>0</th>\n",
              "      <td>0</td>\n",
              "      <td>701</td>\n",
              "      <td>1</td>\n",
              "    </tr>\n",
              "    <tr>\n",
              "      <th>1</th>\n",
              "      <td>0</td>\n",
              "      <td>714</td>\n",
              "      <td>1</td>\n",
              "    </tr>\n",
              "    <tr>\n",
              "      <th>2</th>\n",
              "      <td>0</td>\n",
              "      <td>1239</td>\n",
              "      <td>1</td>\n",
              "    </tr>\n",
              "    <tr>\n",
              "      <th>3</th>\n",
              "      <td>0</td>\n",
              "      <td>1680</td>\n",
              "      <td>1</td>\n",
              "    </tr>\n",
              "    <tr>\n",
              "      <th>4</th>\n",
              "      <td>0</td>\n",
              "      <td>2514</td>\n",
              "      <td>1</td>\n",
              "    </tr>\n",
              "    <tr>\n",
              "      <th>...</th>\n",
              "      <td>...</td>\n",
              "      <td>...</td>\n",
              "      <td>...</td>\n",
              "    </tr>\n",
              "    <tr>\n",
              "      <th>20798</th>\n",
              "      <td>8</td>\n",
              "      <td>36351</td>\n",
              "      <td>3</td>\n",
              "    </tr>\n",
              "    <tr>\n",
              "      <th>20799</th>\n",
              "      <td>8</td>\n",
              "      <td>36856</td>\n",
              "      <td>4</td>\n",
              "    </tr>\n",
              "    <tr>\n",
              "      <th>20800</th>\n",
              "      <td>9</td>\n",
              "      <td>2152</td>\n",
              "      <td>1</td>\n",
              "    </tr>\n",
              "    <tr>\n",
              "      <th>20801</th>\n",
              "      <td>9</td>\n",
              "      <td>8070</td>\n",
              "      <td>1</td>\n",
              "    </tr>\n",
              "    <tr>\n",
              "      <th>20802</th>\n",
              "      <td>9</td>\n",
              "      <td>8075</td>\n",
              "      <td>2</td>\n",
              "    </tr>\n",
              "  </tbody>\n",
              "</table>\n",
              "<p>20803 rows × 3 columns</p>\n",
              "</div>\n",
              "    <div class=\"colab-df-buttons\">\n",
              "\n",
              "  <div class=\"colab-df-container\">\n",
              "    <button class=\"colab-df-convert\" onclick=\"convertToInteractive('df-63d79ac7-14e0-4bd2-b6e6-1e59ffb4db5b')\"\n",
              "            title=\"Convert this dataframe to an interactive table.\"\n",
              "            style=\"display:none;\">\n",
              "\n",
              "  <svg xmlns=\"http://www.w3.org/2000/svg\" height=\"24px\" viewBox=\"0 -960 960 960\">\n",
              "    <path d=\"M120-120v-720h720v720H120Zm60-500h600v-160H180v160Zm220 220h160v-160H400v160Zm0 220h160v-160H400v160ZM180-400h160v-160H180v160Zm440 0h160v-160H620v160ZM180-180h160v-160H180v160Zm440 0h160v-160H620v160Z\"/>\n",
              "  </svg>\n",
              "    </button>\n",
              "\n",
              "  <style>\n",
              "    .colab-df-container {\n",
              "      display:flex;\n",
              "      gap: 12px;\n",
              "    }\n",
              "\n",
              "    .colab-df-convert {\n",
              "      background-color: #E8F0FE;\n",
              "      border: none;\n",
              "      border-radius: 50%;\n",
              "      cursor: pointer;\n",
              "      display: none;\n",
              "      fill: #1967D2;\n",
              "      height: 32px;\n",
              "      padding: 0 0 0 0;\n",
              "      width: 32px;\n",
              "    }\n",
              "\n",
              "    .colab-df-convert:hover {\n",
              "      background-color: #E2EBFA;\n",
              "      box-shadow: 0px 1px 2px rgba(60, 64, 67, 0.3), 0px 1px 3px 1px rgba(60, 64, 67, 0.15);\n",
              "      fill: #174EA6;\n",
              "    }\n",
              "\n",
              "    .colab-df-buttons div {\n",
              "      margin-bottom: 4px;\n",
              "    }\n",
              "\n",
              "    [theme=dark] .colab-df-convert {\n",
              "      background-color: #3B4455;\n",
              "      fill: #D2E3FC;\n",
              "    }\n",
              "\n",
              "    [theme=dark] .colab-df-convert:hover {\n",
              "      background-color: #434B5C;\n",
              "      box-shadow: 0px 1px 3px 1px rgba(0, 0, 0, 0.15);\n",
              "      filter: drop-shadow(0px 1px 2px rgba(0, 0, 0, 0.3));\n",
              "      fill: #FFFFFF;\n",
              "    }\n",
              "  </style>\n",
              "\n",
              "    <script>\n",
              "      const buttonEl =\n",
              "        document.querySelector('#df-63d79ac7-14e0-4bd2-b6e6-1e59ffb4db5b button.colab-df-convert');\n",
              "      buttonEl.style.display =\n",
              "        google.colab.kernel.accessAllowed ? 'block' : 'none';\n",
              "\n",
              "      async function convertToInteractive(key) {\n",
              "        const element = document.querySelector('#df-63d79ac7-14e0-4bd2-b6e6-1e59ffb4db5b');\n",
              "        const dataTable =\n",
              "          await google.colab.kernel.invokeFunction('convertToInteractive',\n",
              "                                                    [key], {});\n",
              "        if (!dataTable) return;\n",
              "\n",
              "        const docLinkHtml = 'Like what you see? Visit the ' +\n",
              "          '<a target=\"_blank\" href=https://colab.research.google.com/notebooks/data_table.ipynb>data table notebook</a>'\n",
              "          + ' to learn more about interactive tables.';\n",
              "        element.innerHTML = '';\n",
              "        dataTable['output_type'] = 'display_data';\n",
              "        await google.colab.output.renderOutput(dataTable, element);\n",
              "        const docLink = document.createElement('div');\n",
              "        docLink.innerHTML = docLinkHtml;\n",
              "        element.appendChild(docLink);\n",
              "      }\n",
              "    </script>\n",
              "  </div>\n",
              "\n",
              "\n",
              "<div id=\"df-862fab8b-830f-4cb6-947f-054457088d0b\">\n",
              "  <button class=\"colab-df-quickchart\" onclick=\"quickchart('df-862fab8b-830f-4cb6-947f-054457088d0b')\"\n",
              "            title=\"Suggest charts.\"\n",
              "            style=\"display:none;\">\n",
              "\n",
              "<svg xmlns=\"http://www.w3.org/2000/svg\" height=\"24px\"viewBox=\"0 0 24 24\"\n",
              "     width=\"24px\">\n",
              "    <g>\n",
              "        <path d=\"M19 3H5c-1.1 0-2 .9-2 2v14c0 1.1.9 2 2 2h14c1.1 0 2-.9 2-2V5c0-1.1-.9-2-2-2zM9 17H7v-7h2v7zm4 0h-2V7h2v10zm4 0h-2v-4h2v4z\"/>\n",
              "    </g>\n",
              "</svg>\n",
              "  </button>\n",
              "\n",
              "<style>\n",
              "  .colab-df-quickchart {\n",
              "      --bg-color: #E8F0FE;\n",
              "      --fill-color: #1967D2;\n",
              "      --hover-bg-color: #E2EBFA;\n",
              "      --hover-fill-color: #174EA6;\n",
              "      --disabled-fill-color: #AAA;\n",
              "      --disabled-bg-color: #DDD;\n",
              "  }\n",
              "\n",
              "  [theme=dark] .colab-df-quickchart {\n",
              "      --bg-color: #3B4455;\n",
              "      --fill-color: #D2E3FC;\n",
              "      --hover-bg-color: #434B5C;\n",
              "      --hover-fill-color: #FFFFFF;\n",
              "      --disabled-bg-color: #3B4455;\n",
              "      --disabled-fill-color: #666;\n",
              "  }\n",
              "\n",
              "  .colab-df-quickchart {\n",
              "    background-color: var(--bg-color);\n",
              "    border: none;\n",
              "    border-radius: 50%;\n",
              "    cursor: pointer;\n",
              "    display: none;\n",
              "    fill: var(--fill-color);\n",
              "    height: 32px;\n",
              "    padding: 0;\n",
              "    width: 32px;\n",
              "  }\n",
              "\n",
              "  .colab-df-quickchart:hover {\n",
              "    background-color: var(--hover-bg-color);\n",
              "    box-shadow: 0 1px 2px rgba(60, 64, 67, 0.3), 0 1px 3px 1px rgba(60, 64, 67, 0.15);\n",
              "    fill: var(--button-hover-fill-color);\n",
              "  }\n",
              "\n",
              "  .colab-df-quickchart-complete:disabled,\n",
              "  .colab-df-quickchart-complete:disabled:hover {\n",
              "    background-color: var(--disabled-bg-color);\n",
              "    fill: var(--disabled-fill-color);\n",
              "    box-shadow: none;\n",
              "  }\n",
              "\n",
              "  .colab-df-spinner {\n",
              "    border: 2px solid var(--fill-color);\n",
              "    border-color: transparent;\n",
              "    border-bottom-color: var(--fill-color);\n",
              "    animation:\n",
              "      spin 1s steps(1) infinite;\n",
              "  }\n",
              "\n",
              "  @keyframes spin {\n",
              "    0% {\n",
              "      border-color: transparent;\n",
              "      border-bottom-color: var(--fill-color);\n",
              "      border-left-color: var(--fill-color);\n",
              "    }\n",
              "    20% {\n",
              "      border-color: transparent;\n",
              "      border-left-color: var(--fill-color);\n",
              "      border-top-color: var(--fill-color);\n",
              "    }\n",
              "    30% {\n",
              "      border-color: transparent;\n",
              "      border-left-color: var(--fill-color);\n",
              "      border-top-color: var(--fill-color);\n",
              "      border-right-color: var(--fill-color);\n",
              "    }\n",
              "    40% {\n",
              "      border-color: transparent;\n",
              "      border-right-color: var(--fill-color);\n",
              "      border-top-color: var(--fill-color);\n",
              "    }\n",
              "    60% {\n",
              "      border-color: transparent;\n",
              "      border-right-color: var(--fill-color);\n",
              "    }\n",
              "    80% {\n",
              "      border-color: transparent;\n",
              "      border-right-color: var(--fill-color);\n",
              "      border-bottom-color: var(--fill-color);\n",
              "    }\n",
              "    90% {\n",
              "      border-color: transparent;\n",
              "      border-bottom-color: var(--fill-color);\n",
              "    }\n",
              "  }\n",
              "</style>\n",
              "\n",
              "  <script>\n",
              "    async function quickchart(key) {\n",
              "      const quickchartButtonEl =\n",
              "        document.querySelector('#' + key + ' button');\n",
              "      quickchartButtonEl.disabled = true;  // To prevent multiple clicks.\n",
              "      quickchartButtonEl.classList.add('colab-df-spinner');\n",
              "      try {\n",
              "        const charts = await google.colab.kernel.invokeFunction(\n",
              "            'suggestCharts', [key], {});\n",
              "      } catch (error) {\n",
              "        console.error('Error during call to suggestCharts:', error);\n",
              "      }\n",
              "      quickchartButtonEl.classList.remove('colab-df-spinner');\n",
              "      quickchartButtonEl.classList.add('colab-df-quickchart-complete');\n",
              "    }\n",
              "    (() => {\n",
              "      let quickchartButtonEl =\n",
              "        document.querySelector('#df-862fab8b-830f-4cb6-947f-054457088d0b button');\n",
              "      quickchartButtonEl.style.display =\n",
              "        google.colab.kernel.accessAllowed ? 'block' : 'none';\n",
              "    })();\n",
              "  </script>\n",
              "</div>\n",
              "    </div>\n",
              "  </div>\n"
            ]
          },
          "metadata": {},
          "execution_count": 5
        }
      ]
    },
    {
      "cell_type": "code",
      "source": [
        "import numpy as np\n",
        "from google.colab import autoviz\n",
        "\n",
        "def histogram(df, colname, num_bins=20, figscale=1):\n",
        "  from matplotlib import pyplot as plt\n",
        "  df[colname].plot(kind='hist', bins=num_bins, title=colname, figsize=(8*figscale, 4*figscale))\n",
        "  plt.gca().spines[['top', 'right',]].set_visible(False)\n",
        "  plt.tight_layout()\n",
        "  return autoviz.MplChart.from_current_mpl_state()\n",
        "\n",
        "chart = histogram(dataset, *['l_ipn'], **{})\n",
        "chart"
      ],
      "metadata": {
        "colab": {
          "base_uri": "https://localhost:8080/",
          "height": 411
        },
        "id": "L6O8z8aeyCQT",
        "outputId": "687326bb-ab8f-4cb1-d29c-6972699fd905"
      },
      "execution_count": 6,
      "outputs": [
        {
          "output_type": "execute_result",
          "data": {
            "text/html": [
              "<img src=\"data:image/png;base64,iVBORw0KGgoAAAANSUhEUgAAAxYAAAGGCAYAAADmRxfNAAAAOXRFWHRTb2Z0d2FyZQBNYXRwbG90\n",
              "bGliIHZlcnNpb24zLjcuMSwgaHR0cHM6Ly9tYXRwbG90bGliLm9yZy/bCgiHAAAACXBIWXMAAA9h\n",
              "AAAPYQGoP6dpAAA1B0lEQVR4nO3de3RU9b3//1cIzBBiJhggGTgESEUuASICFqYiCyRmgOhRoT2i\n",
              "CEGjHjiBSlK55HwpclGDUBEsIPWoBI+kXE6lVSKXEARUgmAkcrGCIhpsMglHJEOiJCHJ74/+2MeR\n",
              "++zAzJDnY629Fnt/3rP3+0OnXby657N3UF1dXZ0AAAAAwIRGvm4AAAAAQOAjWAAAAAAwjWABAAAA\n",
              "wDSCBQAAAADTCBYAAAAATCNYAAAAADCNYAEAAADANIIFAAAAANMIFgAAAABMI1gAAK6qzMxMBQUF\n",
              "6euvv74q9QAA/0CwAAAAAGAawQIA4FdGjx6tH3/8Ue3bt/d1KwCAK9DY1w0AAPBTwcHBCg4O9nUb\n",
              "AIArxB0LAIBfOd8aiw4dOujuu+/W5s2b1bNnTzVt2lSxsbF66623zvvZDz/8UGlpaWrVqpVCQ0N1\n",
              "//336/jx49d4JgDQsBAsAAAB4YsvvtADDzygoUOHKiMjQ40bN9ZvfvMb5eTknFM7ceJEffrpp3r6\n",
              "6ac1fvx4vfPOO5owYYIPugaAhoOfQgEAAsLhw4f1l7/8RcOHD5ckJScnq0uXLpo6daruuusuj9oW\n",
              "LVpo8+bNCgoKkiTV1tbqpZdeUllZmcLDw6957wDQEHDHAgAQENq0aaP777/f2LfZbBozZoz27t0r\n",
              "l8vlUfvEE08YoUKS7rjjDtXU1Oibb765Zv0CQENDsAAABISOHTt6hAVJ6tSpkySd886Ldu3aeezf\n",
              "eOONkqTvv//+6jUIAA0cwQIAcN250FOl6urqrnEnANBwECwAAAHhyy+/PCcYHD58WNI/nxoFAPAt\n",
              "ggUAICAUFRVp3bp1xr7b7dYbb7yhnj17ym63+7AzAIDEU6EAAAGiU6dOSk5O1p49exQVFaXXX39d\n",
              "JSUlWr58ua9bAwCIOxYAgABx8803a/Xq1Xr33Xc1bdo0VVdXa/Xq1XI6nb5uDQAgKaiOlWwAAD/X\n",
              "oUMHde/eXevXr/d1KwCAC+COBQAAAADTWGMBALgmysvLVV5eftGaVq1aXfBRsQAA/0awAABcE3/4\n",
              "wx80a9asi9YcPXqUR8cCQIBijQUA4Jr46quv9NVXX120pn///mratOk16ggAUJ8IFgAAAABMY/E2\n",
              "AAAAANMIFpehrq5Obrdb3NwBAAAAzo9gcRlOnTql8PBwnTp1ytetAAAAAH6JYAEAAADANIIFAAAA\n",
              "ANMIFgAAAABMI1gAAAAAMI1gAQAAAMA0ggUAAAAA0wgWAAAAAEwjWAAAAAAwjWABAAAAwDS/CRZz\n",
              "585VUFCQJk2aZBw7ffq0UlJS1KJFC91www0aMWKESkpKPD5XWFioxMRENWvWTJGRkZo8ebLOnDnj\n",
              "UbNt2zb16tVLVqtVHTt2VGZm5jWYEQAAANBw+EWw2LNnj/70pz8pLi7O43hqaqreeecdrV27Vtu3\n",
              "b1dRUZGGDx9ujNfU1CgxMVFVVVXauXOnVqxYoczMTM2YMcOoOXr0qBITEzVo0CAVFBRo0qRJeuyx\n",
              "x7Rp06ZrNj8AAADgehdUV1dX58sGysvL1atXLy1dulTPPPOMevbsqYULF6qsrEytWrVSVlaWfv3r\n",
              "X0uSPv/8c3Xt2lV5eXnq16+fNmzYoLvvvltFRUWKioqSJC1btkxTp07V8ePHZbFYNHXqVGVnZ+vA\n",
              "gQPGNUeOHKmTJ09q48aNl9Wj2+1WeHi4ysrKZLPZ6v8vAQAAAAhwPr9jkZKSosTERMXHx3scz8/P\n",
              "V3V1tcfxLl26qF27dsrLy5Mk5eXlqUePHkaokCSn0ym3262DBw8aNT8/t9PpNM5xPpWVlXK73R4b\n",
              "AAAAgAtr7MuLr1q1Sp988on27NlzzpjL5ZLFYlHz5s09jkdFRcnlchk1Pw0VZ8fPjl2sxu1268cf\n",
              "f1RISMg5187IyNCsWbO8nhcAAADQ0PjsjsWxY8f05JNPauXKlWratKmv2jiv9PR0lZWVGduxY8d8\n",
              "3RIAAADg13x2xyI/P1+lpaXq1auXcaympkY7duzQ4sWLtWnTJlVVVenkyZMedy1KSkpkt9slSXa7\n",
              "Xbt37/Y479mnRv205udPkiopKZHNZjvv3QpJslqtslqtpudYnzpMy/Z1C/p6bqKvWwAAAICf8tkd\n",
              "i8GDB2v//v0qKCgwtj59+mjUqFHGn5s0aaLc3FzjM4cOHVJhYaEcDockyeFwaP/+/SotLTVqcnJy\n",
              "ZLPZFBsba9T89Bxna86eAwAAAIB5PrtjERYWpu7du3scCw0NVYsWLYzjycnJSktLU0REhGw2myZO\n",
              "nCiHw6F+/fpJkhISEhQbG6vRo0dr3rx5crlcmj59ulJSUow7DuPGjdPixYs1ZcoUPfroo9q6davW\n",
              "rFmj7Gzf3wEAAAAArhc+Xbx9KS+++KIaNWqkESNGqLKyUk6nU0uXLjXGg4ODtX79eo0fP14Oh0Oh\n",
              "oaFKSkrS7NmzjZqYmBhlZ2crNTVVixYtUtu2bfXqq6/K6XT6YkoAAADAdcnn77EIBP7wHgvWWAAA\n",
              "AMCf+fw9FgAAAAACH8ECAAAAgGkECwAAAACmESwAAAAAmEawAAAAAGAawQIAAACAaQQLAAAAAKYR\n",
              "LAAAAACYRrAAAAAAYBrBAgAAAIBpBAsAAAAAphEsAAAAAJhGsAAAAABgGsECAAAAgGkECwAAAACm\n",
              "ESwAAAAAmEawAAAAAGAawQIAAACAaQQLAAAAAKYRLAAAAACYRrAAAAAAYBrBAgAAAIBpBAsAAAAA\n",
              "phEsAAAAAJhGsAAAAABgGsECAAAAgGkECwAAAACm+TRYvPzyy4qLi5PNZpPNZpPD4dCGDRuM8YED\n",
              "ByooKMhjGzdunMc5CgsLlZiYqGbNmikyMlKTJ0/WmTNnPGq2bdumXr16yWq1qmPHjsrMzLwW0wMA\n",
              "AAAajMa+vHjbtm01d+5c3Xzzzaqrq9OKFSt07733au/everWrZsk6fHHH9fs2bONzzRr1sz4c01N\n",
              "jRITE2W327Vz504VFxdrzJgxatKkiZ577jlJ0tGjR5WYmKhx48Zp5cqVys3N1WOPPabWrVvL6XRe\n",
              "2wkDAAAA16mgurq6Ol838VMRERGaP3++kpOTNXDgQPXs2VMLFy48b+2GDRt09913q6ioSFFRUZKk\n",
              "ZcuWaerUqTp+/LgsFoumTp2q7OxsHThwwPjcyJEjdfLkSW3cuPGyenK73QoPD1dZWZlsNpvpOXqj\n",
              "w7Rsn1z3p76em+jrFgAAAOCn/GaNRU1NjVatWqWKigo5HA7j+MqVK9WyZUt1795d6enp+uGHH4yx\n",
              "vLw89ejRwwgVkuR0OuV2u3Xw4EGjJj4+3uNaTqdTeXl5V3lGAAAAQMPh059CSdL+/fvlcDh0+vRp\n",
              "3XDDDVq3bp1iY2MlSQ899JDat2+vNm3aaN++fZo6daoOHTqkt956S5Lkcrk8QoUkY9/lcl20xu12\n",
              "68cff1RISMg5PVVWVqqystLYd7vd9TdhAAAA4Drk82DRuXNnFRQUqKysTP/zP/+jpKQkbd++XbGx\n",
              "sXriiSeMuh49eqh169YaPHiwjhw5optuuumq9ZSRkaFZs2ZdtfMDAAAA1xuf/xTKYrGoY8eO6t27\n",
              "tzIyMnTLLbdo0aJF563t27evJOnLL7+UJNntdpWUlHjUnN232+0XrbHZbOe9WyFJ6enpKisrM7Zj\n",
              "x455P0EAAACgAfB5sPi52tpaj58h/VRBQYEkqXXr1pIkh8Oh/fv3q7S01KjJycmRzWYzfk7lcDiU\n",
              "m5vrcZ6cnByPdRw/Z7VajUfgnt0AAAAAXJhPfwqVnp6uoUOHql27djp16pSysrK0bds2bdq0SUeO\n",
              "HFFWVpaGDRumFi1aaN++fUpNTdWAAQMUFxcnSUpISFBsbKxGjx6tefPmyeVyafr06UpJSZHVapUk\n",
              "jRs3TosXL9aUKVP06KOPauvWrVqzZo2ys33/lCUAAADgeuHTYFFaWqoxY8aouLhY4eHhiouL06ZN\n",
              "m3TXXXfp2LFj2rJlixYuXKiKigpFR0drxIgRmj59uvH54OBgrV+/XuPHj5fD4VBoaKiSkpI83nsR\n",
              "ExOj7OxspaamatGiRWrbtq1effVV3mEBAAAA1CO/e4+FP+I9Fv/EeywAAABwIX63xgIAAABA4CFY\n",
              "AAAAADCNYAEAAADANIIFAAAAANMIFgAAAABMI1gAAAAAMI1gAQAAAMA0ggUAAAAA0wgWAAAAAEwj\n",
              "WAAAAAAwjWABAAAAwDSCBQAAAADTCBYAAAAATCNYAAAAADCNYAEAAADANIIFAAAAANMIFgAAAABM\n",
              "I1gAAAAAMI1gAQAAAMA0ggUAAAAA0wgWAAAAAEwjWAAAAAAwjWABAAAAwDSCBQAAAADTCBYAAAAA\n",
              "TCNYAAAAADCNYAEAAADANIIFAAAAANN8GixefvllxcXFyWazyWazyeFwaMOGDcb46dOnlZKSohYt\n",
              "WuiGG27QiBEjVFJS4nGOwsJCJSYmqlmzZoqMjNTkyZN15swZj5pt27apV69eslqt6tixozIzM6/F\n",
              "9AAAAIAGw6fBom3btpo7d67y8/P18ccf684779S9996rgwcPSpJSU1P1zjvvaO3atdq+fbuKioo0\n",
              "fPhw4/M1NTVKTExUVVWVdu7cqRUrVigzM1MzZswwao4eParExEQNGjRIBQUFmjRpkh577DFt2rTp\n",
              "ms8XAAAAuF4F1dXV1fm6iZ+KiIjQ/Pnz9etf/1qtWrVSVlaWfv3rX0uSPv/8c3Xt2lV5eXnq16+f\n",
              "NmzYoLvvvltFRUWKioqSJC1btkxTp07V8ePHZbFYNHXqVGVnZ+vAgQPGNUaOHKmTJ09q48aNl9WT\n",
              "2+1WeHi4ysrKZLPZ6n/Sl6HDtGyfXPenvp6b6OsWAAAA4Kf8Zo1FTU2NVq1apYqKCjkcDuXn56u6\n",
              "ulrx8fFGTZcuXdSuXTvl5eVJkvLy8tSjRw8jVEiS0+mU2+027nrk5eV5nONszdlzAAAAADCvsa8b\n",
              "2L9/vxwOh06fPq0bbrhB69atU2xsrAoKCmSxWNS8eXOP+qioKLlcLkmSy+XyCBVnx8+OXazG7Xbr\n",
              "xx9/VEhIyDk9VVZWqrKy0th3u92m5wkAAABcz3x+x6Jz584qKCjQRx99pPHjxyspKUmfffaZT3vK\n",
              "yMhQeHi4sUVHR/u0HwAAAMDf+TxYWCwWdezYUb1791ZGRoZuueUWLVq0SHa7XVVVVTp58qRHfUlJ\n",
              "iex2uyTJbref85Sos/uXqrHZbOe9WyFJ6enpKisrM7Zjx47Vx1QBAACA65bPg8XP1dbWqrKyUr17\n",
              "91aTJk2Um5trjB06dEiFhYVyOBySJIfDof3796u0tNSoycnJkc1mU2xsrFHz03OcrTl7jvOxWq3G\n",
              "I3DPbgAAAAAuzKdrLNLT0zV06FC1a9dOp06dUlZWlrZt26ZNmzYpPDxcycnJSktLU0REhGw2myZO\n",
              "nCiHw6F+/fpJkhISEhQbG6vRo0dr3rx5crlcmj59ulJSUmS1WiVJ48aN0+LFizVlyhQ9+uij2rp1\n",
              "q9asWaPsbN8/ZQkAAAC4Xvg0WJSWlmrMmDEqLi5WeHi44uLitGnTJt11112SpBdffFGNGjXSiBEj\n",
              "VFlZKafTqaVLlxqfDw4O1vr16zV+/Hg5HA6FhoYqKSlJs2fPNmpiYmKUnZ2t1NRULVq0SG3bttWr\n",
              "r74qp9N5zecLAAAAXK/87j0W/oj3WPwT77EAAADAhfjdGgsAAAAAgYdgAQAAAMA0ggUAAAAA0wgW\n",
              "AAAAAEwjWAAAAAAwjWABAAAAwDSCBQAAAADTCBYAAAAATCNYAAAAADCNYAEAAADANIIFAAAAANMI\n",
              "FgAAAABMI1gAAAAAMI1gAQAAAMC0xr5uAAAAAPBnHaZl+/T6X89N9On1Lxd3LAAAAACYRrAAAAAA\n",
              "YBrBAgAAAIBpBAsAAAAAphEsAAAAAJhGsAAAAABgGsECAAAAgGkECwAAAACmESwAAAAAmEawAAAA\n",
              "AGAawQIAAACAaQQLAAAAAKYRLAAAAACY5tNgkZGRodtuu01hYWGKjIzUfffdp0OHDnnUDBw4UEFB\n",
              "QR7buHHjPGoKCwuVmJioZs2aKTIyUpMnT9aZM2c8arZt26ZevXrJarWqY8eOyszMvNrTAwAAABoM\n",
              "nwaL7du3KyUlRbt27VJOTo6qq6uVkJCgiooKj7rHH39cxcXFxjZv3jxjrKamRomJiaqqqtLOnTu1\n",
              "YsUKZWZmasaMGUbN0aNHlZiYqEGDBqmgoECTJk3SY489pk2bNl2zuQIAAADXs8a+vPjGjRs99jMz\n",
              "MxUZGan8/HwNGDDAON6sWTPZ7fbznmPz5s367LPPtGXLFkVFRalnz56aM2eOpk6dqpkzZ8pisWjZ\n",
              "smWKiYnRCy+8IEnq2rWrPvjgA7344otyOp1Xb4IAAABAA+HVHYuvvvqqvvuQJJWVlUmSIiIiPI6v\n",
              "XLlSLVu2VPfu3ZWenq4ffvjBGMvLy1OPHj0UFRVlHHM6nXK73Tp48KBREx8f73FOp9OpvLy88/ZR\n",
              "WVkpt9vtsQEAAAC4MK+CRceOHTVo0CC9+eabOn36dL00Ultbq0mTJun2229X9+7djeMPPfSQ3nzz\n",
              "Tb333ntKT0/Xf//3f+vhhx82xl0ul0eokGTsu1yui9a43W79+OOP5/SSkZGh8PBwY4uOjq6XOQIA\n",
              "AADXK6+CxSeffKK4uDilpaXJbrfr3//937V7925TjaSkpOjAgQNatWqVx/EnnnhCTqdTPXr00KhR\n",
              "o/TGG29o3bp1OnLkiKnrXUx6errKysqM7dixY1ftWgAAAMD1wKtg0bNnTy1atEhFRUV6/fXXVVxc\n",
              "rP79+6t79+5asGCBjh8/fkXnmzBhgtavX6/33ntPbdu2vWht3759JUlffvmlJMlut6ukpMSj5uz+\n",
              "2XUZF6qx2WwKCQk55xpWq1U2m81jAwAAAHBhpp4K1bhxYw0fPlxr167V888/ry+//FJPPfWUoqOj\n",
              "NWbMGBUXF1/083V1dZowYYLWrVunrVu3KiYm5pLXLCgokCS1bt1akuRwOLR//36VlpYaNTk5ObLZ\n",
              "bIqNjTVqcnNzPc6Tk5Mjh8NxJdMFAAAAcAGmgsXHH3+s//iP/1Dr1q21YMECPfXUUzpy5IhycnJU\n",
              "VFSke++996KfT0lJ0ZtvvqmsrCyFhYXJ5XLJ5XIZ6x6OHDmiOXPmKD8/X19//bXefvttjRkzRgMG\n",
              "DFBcXJwkKSEhQbGxsRo9erQ+/fRTbdq0SdOnT1dKSoqsVqskady4cfrqq680ZcoUff7551q6dKnW\n",
              "rFmj1NRUM9MHAAAA8P8Lqqurq7vSDy1YsEDLly/XoUOHNGzYMD322GMaNmyYGjX6v5zy7bffqkOH\n",
              "Due8qM7j4kFB5z2+fPlyjR07VseOHdPDDz+sAwcOqKKiQtHR0br//vs1ffp0j58nffPNNxo/fry2\n",
              "bdum0NBQJSUlae7cuWrc+P+eprtt2zalpqbqs88+U9u2bfX73/9eY8eOvaz5ut1uhYeHq6yszGc/\n",
              "i+owLdsn1/2pr+cm+roFAACAa87X/w4LlH+DefUei5dfflmPPvqoxo4da/wk6eciIyP12muvXfQ8\n",
              "l8o00dHR2r59+yX7ad++vd59992L1gwcOFB79+695LkAAAAAXDmvgsUXX3xxyRqLxaKkpCRvTg/g\n",
              "PPh/SwAAgD/zao3F8uXLtXbt2nOOr127VitWrDDdFAAAAIDA4lWwyMjIUMuWLc85HhkZqeeee850\n",
              "UwAAAAACi1fBorCw8LyPhm3fvr0KCwtNNwUAAAAgsHgVLCIjI7Vv375zjn/66adq0aKF6aYAAAAA\n",
              "BBavgsWDDz6o3/72t3rvvfdUU1Ojmpoabd26VU8++aRGjhxZ3z0CAAAA8HNePRVqzpw5+vrrrzV4\n",
              "8GDjXRG1tbUaM2YMaywAAACABsirYGGxWLR69WrNmTNHn376qUJCQtSjRw+1b9++vvsDAAAAEAC8\n",
              "ChZnderUSZ06daqvXgAAAAAEKK+CRU1NjTIzM5Wbm6vS0lLV1tZ6jG/durVemgMAAAAQGLwKFk8+\n",
              "+aQyMzOVmJio7t27KygoqL77AgAAABBAvAoWq1at0po1azRs2LD67gcAAABAAPLqcbMWi0UdO3as\n",
              "714AAAAABCivgsXvfvc7LVq0SHV1dfXdDwAAAIAA5NVPoT744AO999572rBhg7p166YmTZp4jL/1\n",
              "1lv10hwAAIA/6DAt26fX/3puok+v39Dnj8vjVbBo3ry57r///vruBQAAAECA8ipYLF++vL77AAAA\n",
              "ABDAvFpjIUlnzpzRli1b9Kc//UmnTp2SJBUVFam8vLzemgMAAAAQGLy6Y/HNN99oyJAhKiwsVGVl\n",
              "pe666y6FhYXp+eefV2VlpZYtW1bffQIAAADwY17dsXjyySfVp08fff/99woJCTGO33///crNza23\n",
              "5gAAAAAEBq/uWLz//vvauXOnLBaLx/EOHTroH//4R700BvwcT6QAAADwX17dsaitrVVNTc05x7/9\n",
              "9luFhYWZbgoAAABAYPEqWCQkJGjhwoXGflBQkMrLy/X0009r2LBh9dUbAAAAgADh1U+hXnjhBTmd\n",
              "TsXGxur06dN66KGH9MUXX6hly5b685//XN89AgAAAPBzXgWLtm3b6tNPP9WqVau0b98+lZeXKzk5\n",
              "WaNGjfJYzA0AAACgYfAqWEhS48aN9fDDD9dnLwAAAAAClFfB4o033rjo+JgxY7xqBgAAAEBg8ipY\n",
              "PPnkkx771dXV+uGHH2SxWNSsWTOCBQAAANDAePVUqO+//95jKy8v16FDh9S/f/8rWrydkZGh2267\n",
              "TWFhYYqMjNR9992nQ4cOedScPn1aKSkpatGihW644QaNGDFCJSUlHjWFhYVKTExUs2bNFBkZqcmT\n",
              "J+vMmTMeNdu2bVOvXr1ktVrVsWNHZWZmejN1AAAAAOfhVbA4n5tvvllz5849527GxWzfvl0pKSna\n",
              "tWuXcnJyVF1drYSEBFVUVBg1qampeuedd7R27Vpt375dRUVFGj58uDFeU1OjxMREVVVVaefOnVqx\n",
              "YoUyMzM1Y8YMo+bo0aNKTEzUoEGDVFBQoEmTJumxxx7Tpk2b6mfyAAAAQAPn9eLt856scWMVFRVd\n",
              "dv3GjRs99jMzMxUZGan8/HwNGDBAZWVleu2115SVlaU777xTkrR8+XJ17dpVu3btUr9+/bR582Z9\n",
              "9tln2rJli6KiotSzZ0/NmTNHU6dO1cyZM2WxWLRs2TLFxMTohRdekCR17dpVH3zwgV588UU5nc76\n",
              "+wsAAAAAGiivgsXbb7/tsV9XV6fi4mItXrxYt99+u9fNlJWVSZIiIiIkSfn5+aqurlZ8fLxR06VL\n",
              "F7Vr1055eXnq16+f8vLy1KNHD0VFRRk1TqdT48eP18GDB3XrrbcqLy/P4xxnayZNmnTePiorK1VZ\n",
              "WWnsu91ur+cEAAAANAReBYv77rvPYz8oKEitWrXSnXfeadwVuFK1tbWaNGmSbr/9dnXv3l2S5HK5\n",
              "ZLFY1Lx5c4/aqKgouVwuo+anoeLs+Nmxi9W43W79+OOP57x7IyMjQ7NmzfJqHgAAAEBD5FWwqK2t\n",
              "re8+lJKSogMHDuiDDz6o93NfqfT0dKWlpRn7brdb0dHRPuwIAAAA8G/1usbCWxMmTND69eu1Y8cO\n",
              "tW3b1jhut9tVVVWlkydPety1KCkpkd1uN2p2797tcb6zT436ac3PnyRVUlIim8123jeFW61WWa3W\n",
              "epkbAAAA0BB4FSx++v/mX8qCBQsuOFZXV6eJEydq3bp12rZtm2JiYjzGe/furSZNmig3N1cjRoyQ\n",
              "JB06dEiFhYVyOBySJIfDoWeffValpaWKjIyUJOXk5Mhmsyk2Ntaoeffddz3OnZOTY5wDAAAAgDle\n",
              "BYu9e/dq7969qq6uVufOnSVJhw8fVnBwsHr16mXUBQUFXfQ8KSkpysrK0t/+9jeFhYUZayLCw8MV\n",
              "EhKi8PBwJScnKy0tTREREbLZbJo4caIcDof69esnSUpISFBsbKxGjx6tefPmyeVyafr06UpJSTHu\n",
              "OowbN06LFy/WlClT9Oijj2rr1q1as2aNsrOzvZk+AAAAgJ/xKljcc889CgsL04oVK3TjjTdK+udL\n",
              "8x555BHdcccd+t3vfndZ53n55ZclSQMHDvQ4vnz5co0dO1aS9OKLL6pRo0YaMWKEKisr5XQ6tXTp\n",
              "UqM2ODhY69ev1/jx4+VwOBQaGqqkpCTNnj3bqImJiVF2drZSU1O1aNEitW3bVq+++iqPmgUAAADq\n",
              "iVfB4oUXXtDmzZuNUCFJN954o5555hklJCRcdrCoq6u7ZE3Tpk21ZMkSLVmy5II17du3P+enTj83\n",
              "cOBA7d2797L6AgAAAHBlvHrzttvt1vHjx885fvz4cZ06dcp0UwAAAAACi1fB4v7779cjjzyit956\n",
              "S99++62+/fZb/eUvf1FycrKGDx9e3z0CAAAA8HNe/RRq2bJleuqpp/TQQw+purr6nydq3FjJycma\n",
              "P39+vTYIAAAAwP95FSyaNWumpUuXav78+Tpy5Igk6aabblJoaGi9NgcAAAAgMHj1U6iziouLVVxc\n",
              "rJtvvlmhoaGXtRgbAAAAwPXHq2Dx3XffafDgwerUqZOGDRum4uJiSVJycvJlPxEKAAAAwPXDq2CR\n",
              "mpqqJk2aqLCwUM2aNTOOP/DAA9q4cWO9NQcAAAAgMHi1xmLz5s3atGmT2rZt63H85ptv1jfffFMv\n",
              "jQEAAAAIHF7dsaioqPC4U3HWiRMnZLVaTTcFAAAAILB4FSzuuOMOvfHGG8Z+UFCQamtrNW/ePA0a\n",
              "NKjemgMAAAAQGLz6KdS8efM0ePBgffzxx6qqqtKUKVN08OBBnThxQh9++GF99wgAAADAz3l1x6J7\n",
              "9+46fPiw+vfvr3vvvVcVFRUaPny49u7dq5tuuqm+ewQAAADg5674jkV1dbWGDBmiZcuW6f/9v/93\n",
              "NXoCAAAAEGCu+I5FkyZNtG/fvqvRCwAAAIAA5dVPoR5++GG99tpr9d0LAAAAgADl1eLtM2fO6PXX\n",
              "X9eWLVvUu3dvhYaGeowvWLCgXpoDAAAAEBiuKFh89dVX6tChgw4cOKBevXpJkg4fPuxRExQUVH/d\n",
              "AQAAAAgIVxQsbr75ZhUXF+u9996TJD3wwAN66aWXFBUVdVWaAwAAABAYrmiNRV1dncf+hg0bVFFR\n",
              "Ua8NAQAAAAg8Xi3ePuvnQQMAAABAw3RFwSIoKOicNRSsqQAAAABwRWss6urqNHbsWFmtVknS6dOn\n",
              "NW7cuHOeCvXWW2/VX4cAAAAA/N4VBYukpCSP/YcffrhemwEAAAAQmK4oWCxfvvxq9QEAAAAggJla\n",
              "vA0AAAAAEsECAAAAQD0gWAAAAAAwjWABAAAAwDSfBosdO3bonnvuUZs2bRQUFKS//vWvHuNjx441\n",
              "3p1xdhsyZIhHzYkTJzRq1CjZbDY1b95cycnJKi8v96jZt2+f7rjjDjVt2lTR0dGaN2/e1Z4aAAAA\n",
              "0KD4NFhUVFTolltu0ZIlSy5YM2TIEBUXFxvbn//8Z4/xUaNG6eDBg8rJydH69eu1Y8cOPfHEE8a4\n",
              "2+1WQkKC2rdvr/z8fM2fP18zZ87UK6+8ctXmBQAAADQ0V/S42fo2dOhQDR069KI1VqtVdrv9vGN/\n",
              "//vftXHjRu3Zs0d9+vSRJP3xj3/UsGHD9Ic//EFt2rTRypUrVVVVpddff10Wi0XdunVTQUGBFixY\n",
              "4BFAAAAAAHjP79dYbNu2TZGRkercubPGjx+v7777zhjLy8tT8+bNjVAhSfHx8WrUqJE++ugjo2bA\n",
              "gAGyWCxGjdPp1KFDh/T999+f95qVlZVyu90eGwAAAIAL8+tgMWTIEL3xxhvKzc3V888/r+3bt2vo\n",
              "0KGqqamRJLlcLkVGRnp8pnHjxoqIiJDL5TJqoqKiPGrO7p+t+bmMjAyFh4cbW3R0dH1PDQAAALiu\n",
              "+PSnUJcycuRI4889evRQXFycbrrpJm3btk2DBw++atdNT09XWlqase92uwkXAAAAwEX49R2Ln/vF\n",
              "L36hli1b6ssvv5Qk2e12lZaWetScOXNGJ06cMNZl2O12lZSUeNSc3b/Q2g2r1SqbzeaxAQAAALiw\n",
              "gAoW3377rb777ju1bt1akuRwOHTy5Enl5+cbNVu3blVtba369u1r1OzYsUPV1dVGTU5Ojjp37qwb\n",
              "b7zx2k4AAAAAuE75NFiUl5eroKBABQUFkqSjR4+qoKBAhYWFKi8v1+TJk7Vr1y59/fXXys3N1b33\n",
              "3quOHTvK6XRKkrp27aohQ4bo8ccf1+7du/Xhhx9qwoQJGjlypNq0aSNJeuihh2SxWJScnKyDBw9q\n",
              "9erVWrRokcdPnQAAAACY49Ng8fHHH+vWW2/VrbfeKklKS0vTrbfeqhkzZig4OFj79u3Tv/7rv6pT\n",
              "p05KTk5W79699f7778tqtRrnWLlypbp06aLBgwdr2LBh6t+/v8c7KsLDw7V582YdPXpUvXv31u9+\n",
              "9zvNmDGDR80CAAAA9cini7cHDhyourq6C45v2rTpkueIiIhQVlbWRWvi4uL0/vvvX3F/AAAAAC5P\n",
              "QK2xAAAAAOCfCBYAAAAATCNYAAAAADCNYAEAAADANIIFAAAAANMIFgAAAABMI1gAAAAAMI1gAQAA\n",
              "AMA0n74gDwBweTpMy/bp9b+em+jT68O3+P4BuBzcsQAAAABgGsECAAAAgGkECwAAAACmscYCAIBL\n",
              "YI0BAFwadywAAAAAmEawAAAAAGAawQIAAACAaQQLAAAAAKaxeBtAQGDxLAAA/o07FgAAAABMI1gA\n",
              "AAAAMI1gAQAAAMA0ggUAAAAA0wgWAAAAAEwjWAAAAAAwjWABAAAAwDSCBQAAAADTCBYAAAAATPNp\n",
              "sNixY4fuuecetWnTRkFBQfrrX//qMV5XV6cZM2aodevWCgkJUXx8vL744guPmhMnTmjUqFGy2Wxq\n",
              "3ry5kpOTVV5e7lGzb98+3XHHHWratKmio6M1b968qz01AAAAoEHxabCoqKjQLbfcoiVLlpx3fN68\n",
              "eXrppZe0bNkyffTRRwoNDZXT6dTp06eNmlGjRungwYPKycnR+vXrtWPHDj3xxBPGuNvtVkJCgtq3\n",
              "b6/8/HzNnz9fM2fO1CuvvHLV5wcAAAA0FI19efGhQ4dq6NCh5x2rq6vTwoULNX36dN17772SpDfe\n",
              "eENRUVH661//qpEjR+rvf/+7Nm7cqD179qhPnz6SpD/+8Y8aNmyY/vCHP6hNmzZauXKlqqqq9Prr\n",
              "r8tisahbt24qKCjQggULPAIIAAAAAO/57RqLo0ePyuVyKT4+3jgWHh6uvn37Ki8vT5KUl5en5s2b\n",
              "G6FCkuLj49WoUSN99NFHRs2AAQNksViMGqfTqUOHDun777+/RrMBAAAArm8+vWNxMS6XS5IUFRXl\n",
              "cTwqKsoYc7lcioyM9Bhv3LixIiIiPGpiYmLOOcfZsRtvvPGca1dWVqqystLYd7vdJmcDAAAAXN/8\n",
              "9o6FL2VkZCg8PNzYoqOjfd0SAAAA4Nf8NljY7XZJUklJicfxkpISY8xut6u0tNRj/MyZMzpx4oRH\n",
              "zfnO8dNr/Fx6errKysqM7dixY+YnBAAAAFzH/DZYxMTEyG63Kzc31zjmdrv10UcfyeFwSJIcDodO\n",
              "njyp/Px8o2br1q2qra1V3759jZodO3aourraqMnJyVHnzp3P+zMoSbJarbLZbB4bAAAAgAvzabAo\n",
              "Ly9XQUGBCgoKJP1zwXZBQYEKCwsVFBSkSZMm6ZlnntHbb7+t/fv3a8yYMWrTpo3uu+8+SVLXrl01\n",
              "ZMgQPf7449q9e7c+/PBDTZgwQSNHjlSbNm0kSQ899JAsFouSk5N18OBBrV69WosWLVJaWpqPZg0A\n",
              "AABcf3y6ePvjjz/WoEGDjP2z/9hPSkpSZmampkyZooqKCj3xxBM6efKk+vfvr40bN6pp06bGZ1au\n",
              "XKkJEyZo8ODBatSokUaMGKGXXnrJGA8PD9fmzZuVkpKi3r17q2XLlpoxYwaPmgUAAADqkU+DxcCB\n",
              "A1VXV3fB8aCgIM2ePVuzZ8++YE1ERISysrIuep24uDi9//77XvcJAAAA4OL8do0FAAAAgMBBsAAA\n",
              "AABgGsECAAAAgGkECwAAAACmESwAAAAAmEawAAAAAGAawQIAAACAaQQLAAAAAKYRLAAAAACYRrAA\n",
              "AAAAYBrBAgAAAIBpBAsAAAAAphEsAAAAAJhGsAAAAABgGsECAAAAgGkECwAAAACmESwAAAAAmEaw\n",
              "AAAAAGAawQIAAACAaQQLAAAAAKYRLAAAAACYRrAAAAAAYBrBAgAAAIBpBAsAAAAAphEsAAAAAJhG\n",
              "sAAAAABgGsECAAAAgGkECwAAAACm+XWwmDlzpoKCgjy2Ll26GOOnT59WSkqKWrRooRtuuEEjRoxQ\n",
              "SUmJxzkKCwuVmJioZs2aKTIyUpMnT9aZM2eu9VQAAACA61pjXzdwKd26ddOWLVuM/caN/6/l1NRU\n",
              "ZWdna+3atQoPD9eECRM0fPhwffjhh5KkmpoaJSYmym63a+fOnSouLtaYMWPUpEkTPffcc9d8LgAA\n",
              "AMD1yu+DRePGjWW32885XlZWptdee01ZWVm68847JUnLly9X165dtWvXLvXr10+bN2/WZ599pi1b\n",
              "tigqKko9e/bUnDlzNHXqVM2cOVMWi+VaTwcAAAC4Lvn1T6Ek6YsvvlCbNm30i1/8QqNGjVJhYaEk\n",
              "KT8/X9XV1YqPjzdqu3Tponbt2ikvL0+SlJeXpx49eigqKsqocTqdcrvdOnjw4LWdCAAAAHAd8+s7\n",
              "Fn379lVmZqY6d+6s4uJizZo1S3fccYcOHDggl8sli8Wi5s2be3wmKipKLpdLkuRyuTxCxdnxs2MX\n",
              "UllZqcrKSmPf7XbX04wAAACA65NfB4uhQ4caf46Li1Pfvn3Vvn17rVmzRiEhIVftuhkZGZo1a9ZV\n",
              "Oz8AAABwvfH7n0L9VPPmzdWpUyd9+eWXstvtqqqq0smTJz1qSkpKjDUZdrv9nKdEnd0/37qNs9LT\n",
              "01VWVmZsx44dq9+JAAAAANeZgAoW5eXlOnLkiFq3bq3evXurSZMmys3NNcYPHTqkwsJCORwOSZLD\n",
              "4dD+/ftVWlpq1OTk5Mhmsyk2NvaC17FarbLZbB4bAAAAgAvz659CPfXUU7rnnnvUvn17FRUV6emn\n",
              "n1ZwcLAefPBBhYeHKzk5WWlpaYqIiJDNZtPEiRPlcDjUr18/SVJCQoJiY2M1evRozZs3Ty6XS9On\n",
              "T1dKSoqsVquPZwcAAABcP/w6WHz77bd68MEH9d1336lVq1bq37+/du3apVatWkmSXnzxRTVq1Egj\n",
              "RoxQZWWlnE6nli5danw+ODhY69ev1/jx4+VwOBQaGqqkpCTNnj3bV1MCAAAArkt+HSxWrVp10fGm\n",
              "TZtqyZIlWrJkyQVr2rdvr3fffbe+WwMAAADwEwG1xgIAAACAfyJYAAAAADCNYAEAAADANIIFAAAA\n",
              "ANMIFgAAAABMI1gAAAAAMI1gAQAAAMA0ggUAAAAA0wgWAAAAAEwjWAAAAAAwjWABAAAAwDSCBQAA\n",
              "AADTCBYAAAAATCNYAAAAADCNYAEAAADANIIFAAAAANMIFgAAAABMI1gAAAAAMI1gAQAAAMA0ggUA\n",
              "AAAA0wgWAAAAAEwjWAAAAAAwjWABAAAAwDSCBQAAAADTCBYAAAAATCNYAAAAADCNYAEAAADANIIF\n",
              "AAAAANMaVLBYsmSJOnTooKZNm6pv377avXu3r1sCAAAArgsNJlisXr1aaWlpevrpp/XJJ5/olltu\n",
              "kdPpVGlpqa9bAwAAAAJegwkWCxYs0OOPP65HHnlEsbGxWrZsmZo1a6bXX3/d160BAAAAAa+xrxu4\n",
              "FqqqqpSfn6/09HTjWKNGjRQfH6+8vLxz6isrK1VZWWnsl5WVSZLcbvfVb/YCait/8Nm1z/Ll/CXf\n",
              "/x0wf+bvSw19/r7W0P/+G/r8Jf4OmH/Dnr8khYWFKSgo6KI1QXV1dXXXqB+fKSoq0r/8y79o586d\n",
              "cjgcxvEpU6Zo+/bt+uijjzzqZ86cqVmzZl3rNgEAAAC/VFZWJpvNdtGaBnHH4kqlp6crLS3N2K+t\n",
              "rdWJEyfUokWLSya1q8Htdis6OlrHjh275H+gwE/x3YG3+O7AG3xv4C2+O/4vLCzskjUNIli0bNlS\n",
              "wcHBKikp8TheUlIiu91+Tr3VapXVavU41rx586vZ4mWx2Wz8lw1e4bsDb/HdgTf43sBbfHcCW4NY\n",
              "vG2xWNS7d2/l5uYax2pra5Wbm+vx0ygAAAAA3mkQdywkKS0tTUlJSerTp49++ctfauHChaqoqNAj\n",
              "jzzi69YAAACAgNdggsUDDzyg48ePa8aMGXK5XOrZs6c2btyoqKgoX7d2SVarVU8//fQ5P88CLoXv\n",
              "DrzFdwfe4HsDb/HduT40iKdCAQAAALi6GsQaCwAAAABXF8ECAAAAgGkECwAAAACmESwAAAAAmEaw\n",
              "CABLlixRhw4d1LRpU/Xt21e7d+/2dUvwcxkZGbrtttsUFhamyMhI3XfffTp06JCv20KAmTt3roKC\n",
              "gjRp0iRft4IA8I9//EMPP/ywWrRooZCQEPXo0UMff/yxr9uCH6upqdHvf/97xcTEKCQkRDfddJPm\n",
              "zJkjnisUuAgWfm716tVKS0vT008/rU8++US33HKLnE6nSktLfd0a/Nj27duVkpKiXbt2KScnR9XV\n",
              "1UpISFBFRYWvW0OA2LNnj/70pz8pLi7O160gAHz//fe6/fbb1aRJE23YsEGfffaZXnjhBd14442+\n",
              "bg1+7Pnnn9fLL7+sxYsX6+9//7uef/55zZs3T3/84x993Rq8xONm/Vzfvn112223afHixZL++cbw\n",
              "6OhoTZw4UdOmTfNxdwgUx48fV2RkpLZv364BAwb4uh34ufLycvXq1UtLly7VM888o549e2rhwoW+\n",
              "bgt+bNq0afrwww/1/vvv+7oVBJC7775bUVFReu2114xjI0aMUEhIiN58800fdgZvccfCj1VVVSk/\n",
              "P1/x8fHGsUaNGik+Pl55eXk+7AyBpqysTJIUERHh404QCFJSUpSYmOjxvz3Axbz99tvq06ePfvOb\n",
              "3ygyMlK33nqr/uu//svXbcHP/epXv1Jubq4OHz4sSfr000/1wQcfaOjQoT7uDN5qMG/eDkT/+7//\n",
              "q5qamnPeDh4VFaXPP//cR10h0NTW1mrSpEm6/fbb1b17d1+3Az+3atUqffLJJ9qzZ4+vW0EA+eqr\n",
              "r/Tyyy8rLS1N//mf/6k9e/bot7/9rSwWi5KSknzdHvzUtGnT5Ha71aVLFwUHB6umpkbPPvusRo0a\n",
              "5evW4CWCBXCdS0lJ0YEDB/TBBx/4uhX4uWPHjunJJ59UTk6OmjZt6ut2EEBqa2vVp08fPffcc5Kk\n",
              "W2+9VQcOHNCyZcsIFrigNWvWaOXKlcrKylK3bt1UUFCgSZMmqU2bNnxvAhTBwo+1bNlSwcHBKikp\n",
              "8TheUlIiu93uo64QSCZMmKD169drx44datu2ra/bgZ/Lz89XaWmpevXqZRyrqanRjh07tHjxYlVW\n",
              "Vio4ONiHHcJftW7dWrGxsR7Hunbtqr/85S8+6giBYPLkyZo2bZpGjhwpSerRo4e++eYbZWRkECwC\n",
              "FGss/JjFYlHv3r2Vm5trHKutrVVubq4cDocPO4O/q6ur04QJE7Ru3Tpt3bpVMTExvm4JAWDw4MHa\n",
              "v3+/CgoKjK1Pnz4aNWqUCgoKCBW4oNtvv/2cR1ofPnxY7du391FHCAQ//PCDGjXy/KdocHCwamtr\n",
              "fdQRzOKOhZ9LS0tTUlKS+vTpo1/+8pdauHChKioq9Mgjj/i6NfixlJQUZWVl6W9/+5vCwsLkcrkk\n",
              "SeHh4QoJCfFxd/BXYWFh56zDCQ0NVYsWLVifg4tKTU3Vr371Kz333HP6t3/7N+3evVuvvPKKXnnl\n",
              "FV+3Bj92zz336Nlnn1W7du3UrVs37d27VwsWLNCjjz7q69bgJR43GwAWL16s+fPny+VyqWfPnnrp\n",
              "pZfUt29fX7cFPxYUFHTe48uXL9fYsWOvbTMIaAMHDuRxs7gs69evV3p6ur744gvFxMQoLS1Njz/+\n",
              "uK/bgh87deqUfv/732vdunUqLS1VmzZt9OCDD2rGjBmyWCy+bg9eIFgAAAAAMI01FgAAAABMI1gA\n",
              "AAAAMI1gAQAAAMA0ggUAAAAA0wgWAAAAAEwjWAAAAAAwjWABAAAAwDSCBQAAAADTCBYAAAAATCNY\n",
              "AAAAADCNYAEAAADANIIFAAAAANP+Py7dlvCSsq+CAAAAAElFTkSuQmCC\n",
              "\">\n",
              "        <script></script>"
            ],
            "text/plain": [
              "<google.colab._quickchart_lib.MplChart at 0x7a96cdc24160>"
            ]
          },
          "metadata": {},
          "execution_count": 6
        }
      ]
    },
    {
      "cell_type": "code",
      "source": [
        "sns.displot(dataset['r_asn'],kind='kde')"
      ],
      "metadata": {
        "colab": {
          "base_uri": "https://localhost:8080/",
          "height": 523
        },
        "id": "fA-T0SYkyFDs",
        "outputId": "e8b86cc8-9f95-45a7-b504-57f908f2e52e"
      },
      "execution_count": 7,
      "outputs": [
        {
          "output_type": "execute_result",
          "data": {
            "text/plain": [
              "<seaborn.axisgrid.FacetGrid at 0x7a9640250490>"
            ]
          },
          "metadata": {},
          "execution_count": 7
        },
        {
          "output_type": "display_data",
          "data": {
            "text/plain": [
              "<Figure size 500x500 with 1 Axes>"
            ],
            "image/png": "[encoded data removed]"
          },
          "metadata": {}
        }
      ]
    },
    {
      "cell_type": "code",
      "source": [
        "sns.heatmap(dataset.corr(),annot=True)"
      ],
      "metadata": {
        "colab": {
          "base_uri": "https://localhost:8080/",
          "height": 452
        },
        "id": "lFQnPyEyyKUx",
        "outputId": "b05b47b8-d8fe-4397-c579-fe4e901ec07e"
      },
      "execution_count": 8,
      "outputs": [
        {
          "output_type": "execute_result",
          "data": {
            "text/plain": [
              "<Axes: >"
            ]
          },
          "metadata": {},
          "execution_count": 8
        },
        {
          "output_type": "display_data",
          "data": {
            "text/plain": [
              "<Figure size 640x480 with 2 Axes>"
            ],
            "image/png": "[encoded data removed]"
          },
          "metadata": {}
        }
      ]
    },
    {
      "cell_type": "code",
      "source": [
        "dataset.info()"
      ],
      "metadata": {
        "colab": {
          "base_uri": "https://localhost:8080/"
        },
        "id": "5U7YSylOyK3H",
        "outputId": "445d6e75-2d3a-4707-c1c7-00823f37c1c7"
      },
      "execution_count": 9,
      "outputs": [
        {
          "output_type": "stream",
          "name": "stdout",
          "text": [
            "<class 'pandas.core.frame.DataFrame'>\n",
            "RangeIndex: 20803 entries, 0 to 20802\n",
            "Data columns (total 3 columns):\n",
            " #   Column  Non-Null Count  Dtype\n",
            "---  ------  --------------  -----\n",
            " 0   l_ipn   20803 non-null  int64\n",
            " 1   r_asn   20803 non-null  int64\n",
            " 2   f       20803 non-null  int64\n",
            "dtypes: int64(3)\n",
            "memory usage: 487.7 KB\n"
          ]
        }
      ]
    },
    {
      "cell_type": "code",
      "source": [
        "dataset.describe()"
      ],
      "metadata": {
        "colab": {
          "base_uri": "https://localhost:8080/",
          "height": 297
        },
        "id": "CIwuMxsyyNP1",
        "outputId": "d643b729-f3cb-458a-e6c3-3f70697fc789"
      },
      "execution_count": 10,
      "outputs": [
        {
          "output_type": "execute_result",
          "data": {
            "text/plain": [
              "              l_ipn         r_asn              f\n",
              "count  20803.000000  20803.000000   20803.000000\n",
              "mean       4.228236  12138.320338      93.914243\n",
              "std        3.278183   9766.324252    5764.995269\n",
              "min        0.000000      3.000000       1.000000\n",
              "25%        1.000000   4323.000000       1.000000\n",
              "50%        4.000000   8764.000000       2.000000\n",
              "75%        7.000000  17676.000000       8.000000\n",
              "max        9.000000  40092.000000  784234.000000"
            ],
            "text/html": [
              "\n",
              "  <div id=\"df-495e5c25-1b51-4abf-b6ce-79e42109b034\" class=\"colab-df-container\">\n",
              "    <div>\n",
              "<style scoped>\n",
              "    .dataframe tbody tr th:only-of-type {\n",
              "        vertical-align: middle;\n",
              "    }\n",
              "\n",
              "    .dataframe tbody tr th {\n",
              "        vertical-align: top;\n",
              "    }\n",
              "\n",
              "    .dataframe thead th {\n",
              "        text-align: right;\n",
              "    }\n",
              "</style>\n",
              "<table border=\"1\" class=\"dataframe\">\n",
              "  <thead>\n",
              "    <tr style=\"text-align: right;\">\n",
              "      <th></th>\n",
              "      <th>l_ipn</th>\n",
              "      <th>r_asn</th>\n",
              "      <th>f</th>\n",
              "    </tr>\n",
              "  </thead>\n",
              "  <tbody>\n",
              "    <tr>\n",
              "      <th>count</th>\n",
              "      <td>20803.000000</td>\n",
              "      <td>20803.000000</td>\n",
              "      <td>20803.000000</td>\n",
              "    </tr>\n",
              "    <tr>\n",
              "      <th>mean</th>\n",
              "      <td>4.228236</td>\n",
              "      <td>12138.320338</td>\n",
              "      <td>93.914243</td>\n",
              "    </tr>\n",
              "    <tr>\n",
              "      <th>std</th>\n",
              "      <td>3.278183</td>\n",
              "      <td>9766.324252</td>\n",
              "      <td>5764.995269</td>\n",
              "    </tr>\n",
              "    <tr>\n",
              "      <th>min</th>\n",
              "      <td>0.000000</td>\n",
              "      <td>3.000000</td>\n",
              "      <td>1.000000</td>\n",
              "    </tr>\n",
              "    <tr>\n",
              "      <th>25%</th>\n",
              "      <td>1.000000</td>\n",
              "      <td>4323.000000</td>\n",
              "      <td>1.000000</td>\n",
              "    </tr>\n",
              "    <tr>\n",
              "      <th>50%</th>\n",
              "      <td>4.000000</td>\n",
              "      <td>8764.000000</td>\n",
              "      <td>2.000000</td>\n",
              "    </tr>\n",
              "    <tr>\n",
              "      <th>75%</th>\n",
              "      <td>7.000000</td>\n",
              "      <td>17676.000000</td>\n",
              "      <td>8.000000</td>\n",
              "    </tr>\n",
              "    <tr>\n",
              "      <th>max</th>\n",
              "      <td>9.000000</td>\n",
              "      <td>40092.000000</td>\n",
              "      <td>784234.000000</td>\n",
              "    </tr>\n",
              "  </tbody>\n",
              "</table>\n",
              "</div>\n",
              "    <div class=\"colab-df-buttons\">\n",
              "\n",
              "  <div class=\"colab-df-container\">\n",
              "    <button class=\"colab-df-convert\" onclick=\"convertToInteractive('df-495e5c25-1b51-4abf-b6ce-79e42109b034')\"\n",
              "            title=\"Convert this dataframe to an interactive table.\"\n",
              "            style=\"display:none;\">\n",
              "\n",
              "  <svg xmlns=\"http://www.w3.org/2000/svg\" height=\"24px\" viewBox=\"0 -960 960 960\">\n",
              "    <path d=\"M120-120v-720h720v720H120Zm60-500h600v-160H180v160Zm220 220h160v-160H400v160Zm0 220h160v-160H400v160ZM180-400h160v-160H180v160Zm440 0h160v-160H620v160ZM180-180h160v-160H180v160Zm440 0h160v-160H620v160Z\"/>\n",
              "  </svg>\n",
              "    </button>\n",
              "\n",
              "  <style>\n",
              "    .colab-df-container {\n",
              "      display:flex;\n",
              "      gap: 12px;\n",
              "    }\n",
              "\n",
              "    .colab-df-convert {\n",
              "      background-color: #E8F0FE;\n",
              "      border: none;\n",
              "      border-radius: 50%;\n",
              "      cursor: pointer;\n",
              "      display: none;\n",
              "      fill: #1967D2;\n",
              "      height: 32px;\n",
              "      padding: 0 0 0 0;\n",
              "      width: 32px;\n",
              "    }\n",
              "\n",
              "    .colab-df-convert:hover {\n",
              "      background-color: #E2EBFA;\n",
              "      box-shadow: 0px 1px 2px rgba(60, 64, 67, 0.3), 0px 1px 3px 1px rgba(60, 64, 67, 0.15);\n",
              "      fill: #174EA6;\n",
              "    }\n",
              "\n",
              "    .colab-df-buttons div {\n",
              "      margin-bottom: 4px;\n",
              "    }\n",
              "\n",
              "    [theme=dark] .colab-df-convert {\n",
              "      background-color: #3B4455;\n",
              "      fill: #D2E3FC;\n",
              "    }\n",
              "\n",
              "    [theme=dark] .colab-df-convert:hover {\n",
              "      background-color: #434B5C;\n",
              "      box-shadow: 0px 1px 3px 1px rgba(0, 0, 0, 0.15);\n",
              "      filter: drop-shadow(0px 1px 2px rgba(0, 0, 0, 0.3));\n",
              "      fill: #FFFFFF;\n",
              "    }\n",
              "  </style>\n",
              "\n",
              "    <script>\n",
              "      const buttonEl =\n",
              "        document.querySelector('#df-495e5c25-1b51-4abf-b6ce-79e42109b034 button.colab-df-convert');\n",
              "      buttonEl.style.display =\n",
              "        google.colab.kernel.accessAllowed ? 'block' : 'none';\n",
              "\n",
              "      async function convertToInteractive(key) {\n",
              "        const element = document.querySelector('#df-495e5c25-1b51-4abf-b6ce-79e42109b034');\n",
              "        const dataTable =\n",
              "          await google.colab.kernel.invokeFunction('convertToInteractive',\n",
              "                                                    [key], {});\n",
              "        if (!dataTable) return;\n",
              "\n",
              "        const docLinkHtml = 'Like what you see? Visit the ' +\n",
              "          '<a target=\"_blank\" href=https://colab.research.google.com/notebooks/data_table.ipynb>data table notebook</a>'\n",
              "          + ' to learn more about interactive tables.';\n",
              "        element.innerHTML = '';\n",
              "        dataTable['output_type'] = 'display_data';\n",
              "        await google.colab.output.renderOutput(dataTable, element);\n",
              "        const docLink = document.createElement('div');\n",
              "        docLink.innerHTML = docLinkHtml;\n",
              "        element.appendChild(docLink);\n",
              "      }\n",
              "    </script>\n",
              "  </div>\n",
              "\n",
              "\n",
              "<div id=\"df-83ebf676-8d06-48cb-911c-194034dda24e\">\n",
              "  <button class=\"colab-df-quickchart\" onclick=\"quickchart('df-83ebf676-8d06-48cb-911c-194034dda24e')\"\n",
              "            title=\"Suggest charts.\"\n",
              "            style=\"display:none;\">\n",
              "\n",
              "<svg xmlns=\"http://www.w3.org/2000/svg\" height=\"24px\"viewBox=\"0 0 24 24\"\n",
              "     width=\"24px\">\n",
              "    <g>\n",
              "        <path d=\"M19 3H5c-1.1 0-2 .9-2 2v14c0 1.1.9 2 2 2h14c1.1 0 2-.9 2-2V5c0-1.1-.9-2-2-2zM9 17H7v-7h2v7zm4 0h-2V7h2v10zm4 0h-2v-4h2v4z\"/>\n",
              "    </g>\n",
              "</svg>\n",
              "  </button>\n",
              "\n",
              "<style>\n",
              "  .colab-df-quickchart {\n",
              "      --bg-color: #E8F0FE;\n",
              "      --fill-color: #1967D2;\n",
              "      --hover-bg-color: #E2EBFA;\n",
              "      --hover-fill-color: #174EA6;\n",
              "      --disabled-fill-color: #AAA;\n",
              "      --disabled-bg-color: #DDD;\n",
              "  }\n",
              "\n",
              "  [theme=dark] .colab-df-quickchart {\n",
              "      --bg-color: #3B4455;\n",
              "      --fill-color: #D2E3FC;\n",
              "      --hover-bg-color: #434B5C;\n",
              "      --hover-fill-color: #FFFFFF;\n",
              "      --disabled-bg-color: #3B4455;\n",
              "      --disabled-fill-color: #666;\n",
              "  }\n",
              "\n",
              "  .colab-df-quickchart {\n",
              "    background-color: var(--bg-color);\n",
              "    border: none;\n",
              "    border-radius: 50%;\n",
              "    cursor: pointer;\n",
              "    display: none;\n",
              "    fill: var(--fill-color);\n",
              "    height: 32px;\n",
              "    padding: 0;\n",
              "    width: 32px;\n",
              "  }\n",
              "\n",
              "  .colab-df-quickchart:hover {\n",
              "    background-color: var(--hover-bg-color);\n",
              "    box-shadow: 0 1px 2px rgba(60, 64, 67, 0.3), 0 1px 3px 1px rgba(60, 64, 67, 0.15);\n",
              "    fill: var(--button-hover-fill-color);\n",
              "  }\n",
              "\n",
              "  .colab-df-quickchart-complete:disabled,\n",
              "  .colab-df-quickchart-complete:disabled:hover {\n",
              "    background-color: var(--disabled-bg-color);\n",
              "    fill: var(--disabled-fill-color);\n",
              "    box-shadow: none;\n",
              "  }\n",
              "\n",
              "  .colab-df-spinner {\n",
              "    border: 2px solid var(--fill-color);\n",
              "    border-color: transparent;\n",
              "    border-bottom-color: var(--fill-color);\n",
              "    animation:\n",
              "      spin 1s steps(1) infinite;\n",
              "  }\n",
              "\n",
              "  @keyframes spin {\n",
              "    0% {\n",
              "      border-color: transparent;\n",
              "      border-bottom-color: var(--fill-color);\n",
              "      border-left-color: var(--fill-color);\n",
              "    }\n",
              "    20% {\n",
              "      border-color: transparent;\n",
              "      border-left-color: var(--fill-color);\n",
              "      border-top-color: var(--fill-color);\n",
              "    }\n",
              "    30% {\n",
              "      border-color: transparent;\n",
              "      border-left-color: var(--fill-color);\n",
              "      border-top-color: var(--fill-color);\n",
              "      border-right-color: var(--fill-color);\n",
              "    }\n",
              "    40% {\n",
              "      border-color: transparent;\n",
              "      border-right-color: var(--fill-color);\n",
              "      border-top-color: var(--fill-color);\n",
              "    }\n",
              "    60% {\n",
              "      border-color: transparent;\n",
              "      border-right-color: var(--fill-color);\n",
              "    }\n",
              "    80% {\n",
              "      border-color: transparent;\n",
              "      border-right-color: var(--fill-color);\n",
              "      border-bottom-color: var(--fill-color);\n",
              "    }\n",
              "    90% {\n",
              "      border-color: transparent;\n",
              "      border-bottom-color: var(--fill-color);\n",
              "    }\n",
              "  }\n",
              "</style>\n",
              "\n",
              "  <script>\n",
              "    async function quickchart(key) {\n",
              "      const quickchartButtonEl =\n",
              "        document.querySelector('#' + key + ' button');\n",
              "      quickchartButtonEl.disabled = true;  // To prevent multiple clicks.\n",
              "      quickchartButtonEl.classList.add('colab-df-spinner');\n",
              "      try {\n",
              "        const charts = await google.colab.kernel.invokeFunction(\n",
              "            'suggestCharts', [key], {});\n",
              "      } catch (error) {\n",
              "        console.error('Error during call to suggestCharts:', error);\n",
              "      }\n",
              "      quickchartButtonEl.classList.remove('colab-df-spinner');\n",
              "      quickchartButtonEl.classList.add('colab-df-quickchart-complete');\n",
              "    }\n",
              "    (() => {\n",
              "      let quickchartButtonEl =\n",
              "        document.querySelector('#df-83ebf676-8d06-48cb-911c-194034dda24e button');\n",
              "      quickchartButtonEl.style.display =\n",
              "        google.colab.kernel.accessAllowed ? 'block' : 'none';\n",
              "    })();\n",
              "  </script>\n",
              "</div>\n",
              "    </div>\n",
              "  </div>\n"
            ]
          },
          "metadata": {},
          "execution_count": 10
        }
      ]
    },
    {
      "cell_type": "code",
      "source": [
        "dataset.isnull().sum()"
      ],
      "metadata": {
        "colab": {
          "base_uri": "https://localhost:8080/"
        },
        "id": "1ccAQF1myPVh",
        "outputId": "2df42130-c394-4291-ae05-ce84f31487a2"
      },
      "execution_count": 11,
      "outputs": [
        {
          "output_type": "execute_result",
          "data": {
            "text/plain": [
              "l_ipn    0\n",
              "r_asn    0\n",
              "f        0\n",
              "dtype: int64"
            ]
          },
          "metadata": {},
          "execution_count": 11
        }
      ]
    },
    {
      "cell_type": "code",
      "source": [
        "dataset"
      ],
      "metadata": {
        "colab": {
          "base_uri": "https://localhost:8080/",
          "height": 419
        },
        "id": "6OVfEbBkySFN",
        "outputId": "90d4c5e1-8b98-4bed-cba5-7f6f6460f8f0"
      },
      "execution_count": 12,
      "outputs": [
        {
          "output_type": "execute_result",
          "data": {
            "text/plain": [
              "       l_ipn  r_asn  f\n",
              "0          0    701  1\n",
              "1          0    714  1\n",
              "2          0   1239  1\n",
              "3          0   1680  1\n",
              "4          0   2514  1\n",
              "...      ...    ... ..\n",
              "20798      8  36351  3\n",
              "20799      8  36856  4\n",
              "20800      9   2152  1\n",
              "20801      9   8070  1\n",
              "20802      9   8075  2\n",
              "\n",
              "[20803 rows x 3 columns]"
            ],
            "text/html": [
              "\n",
              "  <div id=\"df-785666ee-8756-4dfc-9531-f3b566eb09e1\" class=\"colab-df-container\">\n",
              "    <div>\n",
              "<style scoped>\n",
              "    .dataframe tbody tr th:only-of-type {\n",
              "        vertical-align: middle;\n",
              "    }\n",
              "\n",
              "    .dataframe tbody tr th {\n",
              "        vertical-align: top;\n",
              "    }\n",
              "\n",
              "    .dataframe thead th {\n",
              "        text-align: right;\n",
              "    }\n",
              "</style>\n",
              "<table border=\"1\" class=\"dataframe\">\n",
              "  <thead>\n",
              "    <tr style=\"text-align: right;\">\n",
              "      <th></th>\n",
              "      <th>l_ipn</th>\n",
              "      <th>r_asn</th>\n",
              "      <th>f</th>\n",
              "    </tr>\n",
              "  </thead>\n",
              "  <tbody>\n",
              "    <tr>\n",
              "      <th>0</th>\n",
              "      <td>0</td>\n",
              "      <td>701</td>\n",
              "      <td>1</td>\n",
              "    </tr>\n",
              "    <tr>\n",
              "      <th>1</th>\n",
              "      <td>0</td>\n",
              "      <td>714</td>\n",
              "      <td>1</td>\n",
              "    </tr>\n",
              "    <tr>\n",
              "      <th>2</th>\n",
              "      <td>0</td>\n",
              "      <td>1239</td>\n",
              "      <td>1</td>\n",
              "    </tr>\n",
              "    <tr>\n",
              "      <th>3</th>\n",
              "      <td>0</td>\n",
              "      <td>1680</td>\n",
              "      <td>1</td>\n",
              "    </tr>\n",
              "    <tr>\n",
              "      <th>4</th>\n",
              "      <td>0</td>\n",
              "      <td>2514</td>\n",
              "      <td>1</td>\n",
              "    </tr>\n",
              "    <tr>\n",
              "      <th>...</th>\n",
              "      <td>...</td>\n",
              "      <td>...</td>\n",
              "      <td>...</td>\n",
              "    </tr>\n",
              "    <tr>\n",
              "      <th>20798</th>\n",
              "      <td>8</td>\n",
              "      <td>36351</td>\n",
              "      <td>3</td>\n",
              "    </tr>\n",
              "    <tr>\n",
              "      <th>20799</th>\n",
              "      <td>8</td>\n",
              "      <td>36856</td>\n",
              "      <td>4</td>\n",
              "    </tr>\n",
              "    <tr>\n",
              "      <th>20800</th>\n",
              "      <td>9</td>\n",
              "      <td>2152</td>\n",
              "      <td>1</td>\n",
              "    </tr>\n",
              "    <tr>\n",
              "      <th>20801</th>\n",
              "      <td>9</td>\n",
              "      <td>8070</td>\n",
              "      <td>1</td>\n",
              "    </tr>\n",
              "    <tr>\n",
              "      <th>20802</th>\n",
              "      <td>9</td>\n",
              "      <td>8075</td>\n",
              "      <td>2</td>\n",
              "    </tr>\n",
              "  </tbody>\n",
              "</table>\n",
              "<p>20803 rows × 3 columns</p>\n",
              "</div>\n",
              "    <div class=\"colab-df-buttons\">\n",
              "\n",
              "  <div class=\"colab-df-container\">\n",
              "    <button class=\"colab-df-convert\" onclick=\"convertToInteractive('df-785666ee-8756-4dfc-9531-f3b566eb09e1')\"\n",
              "            title=\"Convert this dataframe to an interactive table.\"\n",
              "            style=\"display:none;\">\n",
              "\n",
              "  <svg xmlns=\"http://www.w3.org/2000/svg\" height=\"24px\" viewBox=\"0 -960 960 960\">\n",
              "    <path d=\"M120-120v-720h720v720H120Zm60-500h600v-160H180v160Zm220 220h160v-160H400v160Zm0 220h160v-160H400v160ZM180-400h160v-160H180v160Zm440 0h160v-160H620v160ZM180-180h160v-160H180v160Zm440 0h160v-160H620v160Z\"/>\n",
              "  </svg>\n",
              "    </button>\n",
              "\n",
              "  <style>\n",
              "    .colab-df-container {\n",
              "      display:flex;\n",
              "      gap: 12px;\n",
              "    }\n",
              "\n",
              "    .colab-df-convert {\n",
              "      background-color: #E8F0FE;\n",
              "      border: none;\n",
              "      border-radius: 50%;\n",
              "      cursor: pointer;\n",
              "      display: none;\n",
              "      fill: #1967D2;\n",
              "      height: 32px;\n",
              "      padding: 0 0 0 0;\n",
              "      width: 32px;\n",
              "    }\n",
              "\n",
              "    .colab-df-convert:hover {\n",
              "      background-color: #E2EBFA;\n",
              "      box-shadow: 0px 1px 2px rgba(60, 64, 67, 0.3), 0px 1px 3px 1px rgba(60, 64, 67, 0.15);\n",
              "      fill: #174EA6;\n",
              "    }\n",
              "\n",
              "    .colab-df-buttons div {\n",
              "      margin-bottom: 4px;\n",
              "    }\n",
              "\n",
              "    [theme=dark] .colab-df-convert {\n",
              "      background-color: #3B4455;\n",
              "      fill: #D2E3FC;\n",
              "    }\n",
              "\n",
              "    [theme=dark] .colab-df-convert:hover {\n",
              "      background-color: #434B5C;\n",
              "      box-shadow: 0px 1px 3px 1px rgba(0, 0, 0, 0.15);\n",
              "      filter: drop-shadow(0px 1px 2px rgba(0, 0, 0, 0.3));\n",
              "      fill: #FFFFFF;\n",
              "    }\n",
              "  </style>\n",
              "\n",
              "    <script>\n",
              "      const buttonEl =\n",
              "        document.querySelector('#df-785666ee-8756-4dfc-9531-f3b566eb09e1 button.colab-df-convert');\n",
              "      buttonEl.style.display =\n",
              "        google.colab.kernel.accessAllowed ? 'block' : 'none';\n",
              "\n",
              "      async function convertToInteractive(key) {\n",
              "        const element = document.querySelector('#df-785666ee-8756-4dfc-9531-f3b566eb09e1');\n",
              "        const dataTable =\n",
              "          await google.colab.kernel.invokeFunction('convertToInteractive',\n",
              "                                                    [key], {});\n",
              "        if (!dataTable) return;\n",
              "\n",
              "        const docLinkHtml = 'Like what you see? Visit the ' +\n",
              "          '<a target=\"_blank\" href=https://colab.research.google.com/notebooks/data_table.ipynb>data table notebook</a>'\n",
              "          + ' to learn more about interactive tables.';\n",
              "        element.innerHTML = '';\n",
              "        dataTable['output_type'] = 'display_data';\n",
              "        await google.colab.output.renderOutput(dataTable, element);\n",
              "        const docLink = document.createElement('div');\n",
              "        docLink.innerHTML = docLinkHtml;\n",
              "        element.appendChild(docLink);\n",
              "      }\n",
              "    </script>\n",
              "  </div>\n",
              "\n",
              "\n",
              "<div id=\"df-b6e2f2dc-7470-4988-b79a-4bfcc0cfc427\">\n",
              "  <button class=\"colab-df-quickchart\" onclick=\"quickchart('df-b6e2f2dc-7470-4988-b79a-4bfcc0cfc427')\"\n",
              "            title=\"Suggest charts.\"\n",
              "            style=\"display:none;\">\n",
              "\n",
              "<svg xmlns=\"http://www.w3.org/2000/svg\" height=\"24px\"viewBox=\"0 0 24 24\"\n",
              "     width=\"24px\">\n",
              "    <g>\n",
              "        <path d=\"M19 3H5c-1.1 0-2 .9-2 2v14c0 1.1.9 2 2 2h14c1.1 0 2-.9 2-2V5c0-1.1-.9-2-2-2zM9 17H7v-7h2v7zm4 0h-2V7h2v10zm4 0h-2v-4h2v4z\"/>\n",
              "    </g>\n",
              "</svg>\n",
              "  </button>\n",
              "\n",
              "<style>\n",
              "  .colab-df-quickchart {\n",
              "      --bg-color: #E8F0FE;\n",
              "      --fill-color: #1967D2;\n",
              "      --hover-bg-color: #E2EBFA;\n",
              "      --hover-fill-color: #174EA6;\n",
              "      --disabled-fill-color: #AAA;\n",
              "      --disabled-bg-color: #DDD;\n",
              "  }\n",
              "\n",
              "  [theme=dark] .colab-df-quickchart {\n",
              "      --bg-color: #3B4455;\n",
              "      --fill-color: #D2E3FC;\n",
              "      --hover-bg-color: #434B5C;\n",
              "      --hover-fill-color: #FFFFFF;\n",
              "      --disabled-bg-color: #3B4455;\n",
              "      --disabled-fill-color: #666;\n",
              "  }\n",
              "\n",
              "  .colab-df-quickchart {\n",
              "    background-color: var(--bg-color);\n",
              "    border: none;\n",
              "    border-radius: 50%;\n",
              "    cursor: pointer;\n",
              "    display: none;\n",
              "    fill: var(--fill-color);\n",
              "    height: 32px;\n",
              "    padding: 0;\n",
              "    width: 32px;\n",
              "  }\n",
              "\n",
              "  .colab-df-quickchart:hover {\n",
              "    background-color: var(--hover-bg-color);\n",
              "    box-shadow: 0 1px 2px rgba(60, 64, 67, 0.3), 0 1px 3px 1px rgba(60, 64, 67, 0.15);\n",
              "    fill: var(--button-hover-fill-color);\n",
              "  }\n",
              "\n",
              "  .colab-df-quickchart-complete:disabled,\n",
              "  .colab-df-quickchart-complete:disabled:hover {\n",
              "    background-color: var(--disabled-bg-color);\n",
              "    fill: var(--disabled-fill-color);\n",
              "    box-shadow: none;\n",
              "  }\n",
              "\n",
              "  .colab-df-spinner {\n",
              "    border: 2px solid var(--fill-color);\n",
              "    border-color: transparent;\n",
              "    border-bottom-color: var(--fill-color);\n",
              "    animation:\n",
              "      spin 1s steps(1) infinite;\n",
              "  }\n",
              "\n",
              "  @keyframes spin {\n",
              "    0% {\n",
              "      border-color: transparent;\n",
              "      border-bottom-color: var(--fill-color);\n",
              "      border-left-color: var(--fill-color);\n",
              "    }\n",
              "    20% {\n",
              "      border-color: transparent;\n",
              "      border-left-color: var(--fill-color);\n",
              "      border-top-color: var(--fill-color);\n",
              "    }\n",
              "    30% {\n",
              "      border-color: transparent;\n",
              "      border-left-color: var(--fill-color);\n",
              "      border-top-color: var(--fill-color);\n",
              "      border-right-color: var(--fill-color);\n",
              "    }\n",
              "    40% {\n",
              "      border-color: transparent;\n",
              "      border-right-color: var(--fill-color);\n",
              "      border-top-color: var(--fill-color);\n",
              "    }\n",
              "    60% {\n",
              "      border-color: transparent;\n",
              "      border-right-color: var(--fill-color);\n",
              "    }\n",
              "    80% {\n",
              "      border-color: transparent;\n",
              "      border-right-color: var(--fill-color);\n",
              "      border-bottom-color: var(--fill-color);\n",
              "    }\n",
              "    90% {\n",
              "      border-color: transparent;\n",
              "      border-bottom-color: var(--fill-color);\n",
              "    }\n",
              "  }\n",
              "</style>\n",
              "\n",
              "  <script>\n",
              "    async function quickchart(key) {\n",
              "      const quickchartButtonEl =\n",
              "        document.querySelector('#' + key + ' button');\n",
              "      quickchartButtonEl.disabled = true;  // To prevent multiple clicks.\n",
              "      quickchartButtonEl.classList.add('colab-df-spinner');\n",
              "      try {\n",
              "        const charts = await google.colab.kernel.invokeFunction(\n",
              "            'suggestCharts', [key], {});\n",
              "      } catch (error) {\n",
              "        console.error('Error during call to suggestCharts:', error);\n",
              "      }\n",
              "      quickchartButtonEl.classList.remove('colab-df-spinner');\n",
              "      quickchartButtonEl.classList.add('colab-df-quickchart-complete');\n",
              "    }\n",
              "    (() => {\n",
              "      let quickchartButtonEl =\n",
              "        document.querySelector('#df-b6e2f2dc-7470-4988-b79a-4bfcc0cfc427 button');\n",
              "      quickchartButtonEl.style.display =\n",
              "        google.colab.kernel.accessAllowed ? 'block' : 'none';\n",
              "    })();\n",
              "  </script>\n",
              "</div>\n",
              "    </div>\n",
              "  </div>\n"
            ]
          },
          "metadata": {},
          "execution_count": 12
        }
      ]
    },
    {
      "cell_type": "code",
      "source": [
        "X=dataset.iloc[:,1:].values\n",
        "y=dataset.iloc[:,0].values"
      ],
      "metadata": {
        "id": "o1vFyrc6yV0s"
      },
      "execution_count": 15,
      "outputs": []
    },
    {
      "cell_type": "code",
      "source": [
        "X"
      ],
      "metadata": {
        "colab": {
          "base_uri": "https://localhost:8080/"
        },
        "id": "4TpPepACygvT",
        "outputId": "b5b79d55-2158-41ce-95b4-e0ca8c984364"
      },
      "execution_count": 16,
      "outputs": [
        {
          "output_type": "execute_result",
          "data": {
            "text/plain": [
              "array([[ 701,    1],\n",
              "       [ 714,    1],\n",
              "       [1239,    1],\n",
              "       ...,\n",
              "       [2152,    1],\n",
              "       [8070,    1],\n",
              "       [8075,    2]])"
            ]
          },
          "metadata": {},
          "execution_count": 16
        }
      ]
    },
    {
      "cell_type": "code",
      "source": [
        "y"
      ],
      "metadata": {
        "colab": {
          "base_uri": "https://localhost:8080/"
        },
        "id": "9nxvtBzkyh_a",
        "outputId": "0d7700c7-7f3a-4ec4-de69-feeac0f4e509"
      },
      "execution_count": 17,
      "outputs": [
        {
          "output_type": "execute_result",
          "data": {
            "text/plain": [
              "array([0, 0, 0, ..., 9, 9, 9])"
            ]
          },
          "metadata": {},
          "execution_count": 17
        }
      ]
    },
    {
      "cell_type": "markdown",
      "source": [
        "## Regression(Test Run)"
      ],
      "metadata": {
        "id": "yCWSgO19BW6C"
      }
    },
    {
      "cell_type": "code",
      "source": [
        "from sklearn.model_selection import train_test_split\n",
        "X_train, X_test, y_train, y_test = train_test_split(X, y, test_size = 0.2, random_state = 1)"
      ],
      "metadata": {
        "id": "fKFOY45KynoC"
      },
      "execution_count": 18,
      "outputs": []
    },
    {
      "cell_type": "code",
      "source": [
        "from sklearn.preprocessing import StandardScaler\n",
        "sc = StandardScaler()\n",
        "X_train= sc.fit_transform(X_train)\n",
        "X_test= sc.transform(X_test)"
      ],
      "metadata": {
        "id": "vE4mW5SFz7a4"
      },
      "execution_count": 35,
      "outputs": []
    },
    {
      "cell_type": "code",
      "source": [
        "from sklearn.linear_model import LinearRegression"
      ],
      "metadata": {
        "id": "B4L_GgSOyu42"
      },
      "execution_count": 36,
      "outputs": []
    },
    {
      "cell_type": "code",
      "source": [
        "lr=LinearRegression()"
      ],
      "metadata": {
        "id": "T4yxzKs-yxfY"
      },
      "execution_count": 37,
      "outputs": []
    },
    {
      "cell_type": "code",
      "source": [
        "lr.fit(X_train,y_train)"
      ],
      "metadata": {
        "colab": {
          "base_uri": "https://localhost:8080/",
          "height": 74
        },
        "id": "2jMUfgHAy1EV",
        "outputId": "91311e2c-bb22-4394-b724-c4b9a238b9e6"
      },
      "execution_count": 38,
      "outputs": [
        {
          "output_type": "execute_result",
          "data": {
            "text/plain": [
              "LinearRegression()"
            ],
            "text/html": [
              "<style>#sk-container-id-3 {color: black;background-color: white;}#sk-container-id-3 pre{padding: 0;}#sk-container-id-3 div.sk-toggleable {background-color: white;}#sk-container-id-3 label.sk-toggleable__label {cursor: pointer;display: block;width: 100%;margin-bottom: 0;padding: 0.3em;box-sizing: border-box;text-align: center;}#sk-container-id-3 label.sk-toggleable__label-arrow:before {content: \"▸\";float: left;margin-right: 0.25em;color: #696969;}#sk-container-id-3 label.sk-toggleable__label-arrow:hover:before {color: black;}#sk-container-id-3 div.sk-estimator:hover label.sk-toggleable__label-arrow:before {color: black;}#sk-container-id-3 div.sk-toggleable__content {max-height: 0;max-width: 0;overflow: hidden;text-align: left;background-color: #f0f8ff;}#sk-container-id-3 div.sk-toggleable__content pre {margin: 0.2em;color: black;border-radius: 0.25em;background-color: #f0f8ff;}#sk-container-id-3 input.sk-toggleable__control:checked~div.sk-toggleable__content {max-height: 200px;max-width: 100%;overflow: auto;}#sk-container-id-3 input.sk-toggleable__control:checked~label.sk-toggleable__label-arrow:before {content: \"▾\";}#sk-container-id-3 div.sk-estimator input.sk-toggleable__control:checked~label.sk-toggleable__label {background-color: #d4ebff;}#sk-container-id-3 div.sk-label input.sk-toggleable__control:checked~label.sk-toggleable__label {background-color: #d4ebff;}#sk-container-id-3 input.sk-hidden--visually {border: 0;clip: rect(1px 1px 1px 1px);clip: rect(1px, 1px, 1px, 1px);height: 1px;margin: -1px;overflow: hidden;padding: 0;position: absolute;width: 1px;}#sk-container-id-3 div.sk-estimator {font-family: monospace;background-color: #f0f8ff;border: 1px dotted black;border-radius: 0.25em;box-sizing: border-box;margin-bottom: 0.5em;}#sk-container-id-3 div.sk-estimator:hover {background-color: #d4ebff;}#sk-container-id-3 div.sk-parallel-item::after {content: \"\";width: 100%;border-bottom: 1px solid gray;flex-grow: 1;}#sk-container-id-3 div.sk-label:hover label.sk-toggleable__label {background-color: #d4ebff;}#sk-container-id-3 div.sk-serial::before {content: \"\";position: absolute;border-left: 1px solid gray;box-sizing: border-box;top: 0;bottom: 0;left: 50%;z-index: 0;}#sk-container-id-3 div.sk-serial {display: flex;flex-direction: column;align-items: center;background-color: white;padding-right: 0.2em;padding-left: 0.2em;position: relative;}#sk-container-id-3 div.sk-item {position: relative;z-index: 1;}#sk-container-id-3 div.sk-parallel {display: flex;align-items: stretch;justify-content: center;background-color: white;position: relative;}#sk-container-id-3 div.sk-item::before, #sk-container-id-3 div.sk-parallel-item::before {content: \"\";position: absolute;border-left: 1px solid gray;box-sizing: border-box;top: 0;bottom: 0;left: 50%;z-index: -1;}#sk-container-id-3 div.sk-parallel-item {display: flex;flex-direction: column;z-index: 1;position: relative;background-color: white;}#sk-container-id-3 div.sk-parallel-item:first-child::after {align-self: flex-end;width: 50%;}#sk-container-id-3 div.sk-parallel-item:last-child::after {align-self: flex-start;width: 50%;}#sk-container-id-3 div.sk-parallel-item:only-child::after {width: 0;}#sk-container-id-3 div.sk-dashed-wrapped {border: 1px dashed gray;margin: 0 0.4em 0.5em 0.4em;box-sizing: border-box;padding-bottom: 0.4em;background-color: white;}#sk-container-id-3 div.sk-label label {font-family: monospace;font-weight: bold;display: inline-block;line-height: 1.2em;}#sk-container-id-3 div.sk-label-container {text-align: center;}#sk-container-id-3 div.sk-container {/* jupyter's `normalize.less` sets `[hidden] { display: none; }` but bootstrap.min.css set `[hidden] { display: none !important; }` so we also need the `!important` here to be able to override the default hidden behavior on the sphinx rendered scikit-learn.org. See: https://github.com/scikit-learn/scikit-learn/issues/21755 */display: inline-block !important;position: relative;}#sk-container-id-3 div.sk-text-repr-fallback {display: none;}</style><div id=\"sk-container-id-3\" class=\"sk-top-container\"><div class=\"sk-text-repr-fallback\"><pre>LinearRegression()</pre><b>In a Jupyter environment, please rerun this cell to show the HTML representation or trust the notebook. <br />On GitHub, the HTML representation is unable to render, please try loading this page with nbviewer.org.</b></div><div class=\"sk-container\" hidden><div class=\"sk-item\"><div class=\"sk-estimator sk-toggleable\"><input class=\"sk-toggleable__control sk-hidden--visually\" id=\"sk-estimator-id-3\" type=\"checkbox\" checked><label for=\"sk-estimator-id-3\" class=\"sk-toggleable__label sk-toggleable__label-arrow\">LinearRegression</label><div class=\"sk-toggleable__content\"><pre>LinearRegression()</pre></div></div></div></div></div>"
            ]
          },
          "metadata": {},
          "execution_count": 38
        }
      ]
    },
    {
      "cell_type": "code",
      "source": [
        "y_pred=lr.predict(X_test)"
      ],
      "metadata": {
        "id": "pB-o_ZCuy18S"
      },
      "execution_count": 39,
      "outputs": []
    },
    {
      "cell_type": "code",
      "source": [
        "print(np.concatenate((y_pred.reshape(len(y_pred),1),y_test.reshape(len(y_test),1)),1))"
      ],
      "metadata": {
        "colab": {
          "base_uri": "https://localhost:8080/"
        },
        "id": "MTWuYFMUy4qh",
        "outputId": "08b15840-4691-4605-d30c-2ed91301d6ff"
      },
      "execution_count": 40,
      "outputs": [
        {
          "output_type": "stream",
          "name": "stdout",
          "text": [
            "[[4.30138343 5.        ]\n",
            " [4.2099297  3.        ]\n",
            " [4.21277327 1.        ]\n",
            " ...\n",
            " [4.31906771 7.        ]\n",
            " [4.18235594 9.        ]\n",
            " [4.26259745 1.        ]]\n"
          ]
        }
      ]
    },
    {
      "cell_type": "code",
      "source": [
        "from sklearn.metrics import r2_score\n",
        "r2_score(y_test, y_pred)"
      ],
      "metadata": {
        "colab": {
          "base_uri": "https://localhost:8080/"
        },
        "id": "hnW6Z-3sy9-m",
        "outputId": "9c708921-95e0-4613-9225-f323a7509615"
      },
      "execution_count": 41,
      "outputs": [
        {
          "output_type": "execute_result",
          "data": {
            "text/plain": [
              "0.0008985317498650947"
            ]
          },
          "metadata": {},
          "execution_count": 41
        }
      ]
    },
    {
      "cell_type": "code",
      "source": [
        "from sklearn.linear_model import LogisticRegression"
      ],
      "metadata": {
        "id": "N3H-u_flzDL7"
      },
      "execution_count": 42,
      "outputs": []
    },
    {
      "cell_type": "markdown",
      "source": [
        "##Classification"
      ],
      "metadata": {
        "id": "F7v5jgOQ0cj6"
      }
    },
    {
      "cell_type": "code",
      "source": [
        "logi=LogisticRegression()"
      ],
      "metadata": {
        "id": "UpEJ7nX0zMyo"
      },
      "execution_count": 43,
      "outputs": []
    },
    {
      "cell_type": "code",
      "source": [
        "logi.fit(X_train,y_train)"
      ],
      "metadata": {
        "colab": {
          "base_uri": "https://localhost:8080/",
          "height": 74
        },
        "id": "XsNS3gVEzTo3",
        "outputId": "0983aaa0-8132-49d2-ef86-ee1df22a2feb"
      },
      "execution_count": 44,
      "outputs": [
        {
          "output_type": "execute_result",
          "data": {
            "text/plain": [
              "LogisticRegression()"
            ],
            "text/html": [
              "<style>#sk-container-id-4 {color: black;background-color: white;}#sk-container-id-4 pre{padding: 0;}#sk-container-id-4 div.sk-toggleable {background-color: white;}#sk-container-id-4 label.sk-toggleable__label {cursor: pointer;display: block;width: 100%;margin-bottom: 0;padding: 0.3em;box-sizing: border-box;text-align: center;}#sk-container-id-4 label.sk-toggleable__label-arrow:before {content: \"▸\";float: left;margin-right: 0.25em;color: #696969;}#sk-container-id-4 label.sk-toggleable__label-arrow:hover:before {color: black;}#sk-container-id-4 div.sk-estimator:hover label.sk-toggleable__label-arrow:before {color: black;}#sk-container-id-4 div.sk-toggleable__content {max-height: 0;max-width: 0;overflow: hidden;text-align: left;background-color: #f0f8ff;}#sk-container-id-4 div.sk-toggleable__content pre {margin: 0.2em;color: black;border-radius: 0.25em;background-color: #f0f8ff;}#sk-container-id-4 input.sk-toggleable__control:checked~div.sk-toggleable__content {max-height: 200px;max-width: 100%;overflow: auto;}#sk-container-id-4 input.sk-toggleable__control:checked~label.sk-toggleable__label-arrow:before {content: \"▾\";}#sk-container-id-4 div.sk-estimator input.sk-toggleable__control:checked~label.sk-toggleable__label {background-color: #d4ebff;}#sk-container-id-4 div.sk-label input.sk-toggleable__control:checked~label.sk-toggleable__label {background-color: #d4ebff;}#sk-container-id-4 input.sk-hidden--visually {border: 0;clip: rect(1px 1px 1px 1px);clip: rect(1px, 1px, 1px, 1px);height: 1px;margin: -1px;overflow: hidden;padding: 0;position: absolute;width: 1px;}#sk-container-id-4 div.sk-estimator {font-family: monospace;background-color: #f0f8ff;border: 1px dotted black;border-radius: 0.25em;box-sizing: border-box;margin-bottom: 0.5em;}#sk-container-id-4 div.sk-estimator:hover {background-color: #d4ebff;}#sk-container-id-4 div.sk-parallel-item::after {content: \"\";width: 100%;border-bottom: 1px solid gray;flex-grow: 1;}#sk-container-id-4 div.sk-label:hover label.sk-toggleable__label {background-color: #d4ebff;}#sk-container-id-4 div.sk-serial::before {content: \"\";position: absolute;border-left: 1px solid gray;box-sizing: border-box;top: 0;bottom: 0;left: 50%;z-index: 0;}#sk-container-id-4 div.sk-serial {display: flex;flex-direction: column;align-items: center;background-color: white;padding-right: 0.2em;padding-left: 0.2em;position: relative;}#sk-container-id-4 div.sk-item {position: relative;z-index: 1;}#sk-container-id-4 div.sk-parallel {display: flex;align-items: stretch;justify-content: center;background-color: white;position: relative;}#sk-container-id-4 div.sk-item::before, #sk-container-id-4 div.sk-parallel-item::before {content: \"\";position: absolute;border-left: 1px solid gray;box-sizing: border-box;top: 0;bottom: 0;left: 50%;z-index: -1;}#sk-container-id-4 div.sk-parallel-item {display: flex;flex-direction: column;z-index: 1;position: relative;background-color: white;}#sk-container-id-4 div.sk-parallel-item:first-child::after {align-self: flex-end;width: 50%;}#sk-container-id-4 div.sk-parallel-item:last-child::after {align-self: flex-start;width: 50%;}#sk-container-id-4 div.sk-parallel-item:only-child::after {width: 0;}#sk-container-id-4 div.sk-dashed-wrapped {border: 1px dashed gray;margin: 0 0.4em 0.5em 0.4em;box-sizing: border-box;padding-bottom: 0.4em;background-color: white;}#sk-container-id-4 div.sk-label label {font-family: monospace;font-weight: bold;display: inline-block;line-height: 1.2em;}#sk-container-id-4 div.sk-label-container {text-align: center;}#sk-container-id-4 div.sk-container {/* jupyter's `normalize.less` sets `[hidden] { display: none; }` but bootstrap.min.css set `[hidden] { display: none !important; }` so we also need the `!important` here to be able to override the default hidden behavior on the sphinx rendered scikit-learn.org. See: https://github.com/scikit-learn/scikit-learn/issues/21755 */display: inline-block !important;position: relative;}#sk-container-id-4 div.sk-text-repr-fallback {display: none;}</style><div id=\"sk-container-id-4\" class=\"sk-top-container\"><div class=\"sk-text-repr-fallback\"><pre>LogisticRegression()</pre><b>In a Jupyter environment, please rerun this cell to show the HTML representation or trust the notebook. <br />On GitHub, the HTML representation is unable to render, please try loading this page with nbviewer.org.</b></div><div class=\"sk-container\" hidden><div class=\"sk-item\"><div class=\"sk-estimator sk-toggleable\"><input class=\"sk-toggleable__control sk-hidden--visually\" id=\"sk-estimator-id-4\" type=\"checkbox\" checked><label for=\"sk-estimator-id-4\" class=\"sk-toggleable__label sk-toggleable__label-arrow\">LogisticRegression</label><div class=\"sk-toggleable__content\"><pre>LogisticRegression()</pre></div></div></div></div></div>"
            ]
          },
          "metadata": {},
          "execution_count": 44
        }
      ]
    },
    {
      "cell_type": "code",
      "source": [
        "y_logi=logi.predict(X_test)"
      ],
      "metadata": {
        "id": "zZRkQUmazYUK"
      },
      "execution_count": 45,
      "outputs": []
    },
    {
      "cell_type": "code",
      "source": [
        "print(np.concatenate((y_logi.reshape(len(y_logi),1),y_test.reshape(len(y_test),1)),1))"
      ],
      "metadata": {
        "colab": {
          "base_uri": "https://localhost:8080/"
        },
        "id": "IvreiEMQzgTH",
        "outputId": "55337546-82cb-45a9-b15d-40139c5b25b6"
      },
      "execution_count": 46,
      "outputs": [
        {
          "output_type": "stream",
          "name": "stdout",
          "text": [
            "[[0 5]\n",
            " [0 3]\n",
            " [0 1]\n",
            " ...\n",
            " [0 7]\n",
            " [0 9]\n",
            " [0 1]]\n"
          ]
        }
      ]
    },
    {
      "cell_type": "code",
      "source": [
        "from sklearn.metrics import accuracy_score #Metric scoring functions\n",
        "\n",
        "accuracy_score(y_test, y_logi)"
      ],
      "metadata": {
        "colab": {
          "base_uri": "https://localhost:8080/"
        },
        "id": "UzG-ExWXzj3X",
        "outputId": "e7eed1af-327b-4d60-a0db-23a2b58bb235"
      },
      "execution_count": 47,
      "outputs": [
        {
          "output_type": "execute_result",
          "data": {
            "text/plain": [
              "0.19875030040855562"
            ]
          },
          "metadata": {},
          "execution_count": 47
        }
      ]
    },
    {
      "cell_type": "code",
      "source": [
        "from sklearn.svm import SVC"
      ],
      "metadata": {
        "id": "Nga-GKqazxVC"
      },
      "execution_count": 49,
      "outputs": []
    },
    {
      "cell_type": "code",
      "source": [
        "svc=SVC(C=1, kernel='rbf')"
      ],
      "metadata": {
        "id": "KXxV2sIu0oII"
      },
      "execution_count": 53,
      "outputs": []
    },
    {
      "cell_type": "code",
      "source": [
        "svc.fit(X_train,y_train)"
      ],
      "metadata": {
        "colab": {
          "base_uri": "https://localhost:8080/",
          "height": 74
        },
        "id": "gmTrrmcg1f_h",
        "outputId": "939362b4-6a56-4530-a45d-20468ba05d8f"
      },
      "execution_count": 54,
      "outputs": [
        {
          "output_type": "execute_result",
          "data": {
            "text/plain": [
              "SVC(C=1)"
            ],
            "text/html": [
              "<style>#sk-container-id-5 {color: black;background-color: white;}#sk-container-id-5 pre{padding: 0;}#sk-container-id-5 div.sk-toggleable {background-color: white;}#sk-container-id-5 label.sk-toggleable__label {cursor: pointer;display: block;width: 100%;margin-bottom: 0;padding: 0.3em;box-sizing: border-box;text-align: center;}#sk-container-id-5 label.sk-toggleable__label-arrow:before {content: \"▸\";float: left;margin-right: 0.25em;color: #696969;}#sk-container-id-5 label.sk-toggleable__label-arrow:hover:before {color: black;}#sk-container-id-5 div.sk-estimator:hover label.sk-toggleable__label-arrow:before {color: black;}#sk-container-id-5 div.sk-toggleable__content {max-height: 0;max-width: 0;overflow: hidden;text-align: left;background-color: #f0f8ff;}#sk-container-id-5 div.sk-toggleable__content pre {margin: 0.2em;color: black;border-radius: 0.25em;background-color: #f0f8ff;}#sk-container-id-5 input.sk-toggleable__control:checked~div.sk-toggleable__content {max-height: 200px;max-width: 100%;overflow: auto;}#sk-container-id-5 input.sk-toggleable__control:checked~label.sk-toggleable__label-arrow:before {content: \"▾\";}#sk-container-id-5 div.sk-estimator input.sk-toggleable__control:checked~label.sk-toggleable__label {background-color: #d4ebff;}#sk-container-id-5 div.sk-label input.sk-toggleable__control:checked~label.sk-toggleable__label {background-color: #d4ebff;}#sk-container-id-5 input.sk-hidden--visually {border: 0;clip: rect(1px 1px 1px 1px);clip: rect(1px, 1px, 1px, 1px);height: 1px;margin: -1px;overflow: hidden;padding: 0;position: absolute;width: 1px;}#sk-container-id-5 div.sk-estimator {font-family: monospace;background-color: #f0f8ff;border: 1px dotted black;border-radius: 0.25em;box-sizing: border-box;margin-bottom: 0.5em;}#sk-container-id-5 div.sk-estimator:hover {background-color: #d4ebff;}#sk-container-id-5 div.sk-parallel-item::after {content: \"\";width: 100%;border-bottom: 1px solid gray;flex-grow: 1;}#sk-container-id-5 div.sk-label:hover label.sk-toggleable__label {background-color: #d4ebff;}#sk-container-id-5 div.sk-serial::before {content: \"\";position: absolute;border-left: 1px solid gray;box-sizing: border-box;top: 0;bottom: 0;left: 50%;z-index: 0;}#sk-container-id-5 div.sk-serial {display: flex;flex-direction: column;align-items: center;background-color: white;padding-right: 0.2em;padding-left: 0.2em;position: relative;}#sk-container-id-5 div.sk-item {position: relative;z-index: 1;}#sk-container-id-5 div.sk-parallel {display: flex;align-items: stretch;justify-content: center;background-color: white;position: relative;}#sk-container-id-5 div.sk-item::before, #sk-container-id-5 div.sk-parallel-item::before {content: \"\";position: absolute;border-left: 1px solid gray;box-sizing: border-box;top: 0;bottom: 0;left: 50%;z-index: -1;}#sk-container-id-5 div.sk-parallel-item {display: flex;flex-direction: column;z-index: 1;position: relative;background-color: white;}#sk-container-id-5 div.sk-parallel-item:first-child::after {align-self: flex-end;width: 50%;}#sk-container-id-5 div.sk-parallel-item:last-child::after {align-self: flex-start;width: 50%;}#sk-container-id-5 div.sk-parallel-item:only-child::after {width: 0;}#sk-container-id-5 div.sk-dashed-wrapped {border: 1px dashed gray;margin: 0 0.4em 0.5em 0.4em;box-sizing: border-box;padding-bottom: 0.4em;background-color: white;}#sk-container-id-5 div.sk-label label {font-family: monospace;font-weight: bold;display: inline-block;line-height: 1.2em;}#sk-container-id-5 div.sk-label-container {text-align: center;}#sk-container-id-5 div.sk-container {/* jupyter's `normalize.less` sets `[hidden] { display: none; }` but bootstrap.min.css set `[hidden] { display: none !important; }` so we also need the `!important` here to be able to override the default hidden behavior on the sphinx rendered scikit-learn.org. See: https://github.com/scikit-learn/scikit-learn/issues/21755 */display: inline-block !important;position: relative;}#sk-container-id-5 div.sk-text-repr-fallback {display: none;}</style><div id=\"sk-container-id-5\" class=\"sk-top-container\"><div class=\"sk-text-repr-fallback\"><pre>SVC(C=1)</pre><b>In a Jupyter environment, please rerun this cell to show the HTML representation or trust the notebook. <br />On GitHub, the HTML representation is unable to render, please try loading this page with nbviewer.org.</b></div><div class=\"sk-container\" hidden><div class=\"sk-item\"><div class=\"sk-estimator sk-toggleable\"><input class=\"sk-toggleable__control sk-hidden--visually\" id=\"sk-estimator-id-5\" type=\"checkbox\" checked><label for=\"sk-estimator-id-5\" class=\"sk-toggleable__label sk-toggleable__label-arrow\">SVC</label><div class=\"sk-toggleable__content\"><pre>SVC(C=1)</pre></div></div></div></div></div>"
            ]
          },
          "metadata": {},
          "execution_count": 54
        }
      ]
    },
    {
      "cell_type": "code",
      "source": [
        "y_svc=svc.predict(X_test)"
      ],
      "metadata": {
        "id": "Wvad0ZmF1r4s"
      },
      "execution_count": 55,
      "outputs": []
    },
    {
      "cell_type": "code",
      "source": [
        "print(np.concatenate((y_svc.reshape(len(y_svc),1),y_test.reshape(len(y_test),1)),1))"
      ],
      "metadata": {
        "colab": {
          "base_uri": "https://localhost:8080/"
        },
        "id": "BF9Qsigs2nH2",
        "outputId": "fe474590-1bb8-4604-949f-4f4ec54a5e95"
      },
      "execution_count": 56,
      "outputs": [
        {
          "output_type": "stream",
          "name": "stdout",
          "text": [
            "[[0 5]\n",
            " [0 3]\n",
            " [0 1]\n",
            " ...\n",
            " [2 7]\n",
            " [8 9]\n",
            " [0 1]]\n"
          ]
        }
      ]
    },
    {
      "cell_type": "code",
      "source": [
        "from sklearn.metrics import accuracy_score #Metric scoring functions\n",
        "accuracy_score(y_test, y_svc)"
      ],
      "metadata": {
        "colab": {
          "base_uri": "https://localhost:8080/"
        },
        "id": "TTgInL981r7j",
        "outputId": "f4e73281-2519-4043-900c-dbf005d0fbfb"
      },
      "execution_count": 57,
      "outputs": [
        {
          "output_type": "execute_result",
          "data": {
            "text/plain": [
              "0.2114876231675078"
            ]
          },
          "metadata": {},
          "execution_count": 57
        }
      ]
    },
    {
      "cell_type": "code",
      "source": [
        "#from sklearn.metrics import confusion_matrix\n",
        "#print(confusion_matrix(y_test,y_svc))\n"
      ],
      "metadata": {
        "id": "hkDNMW821r95"
      },
      "execution_count": null,
      "outputs": []
    },
    {
      "cell_type": "code",
      "source": [
        "from sklearn.metrics import classification_report #Precision, recall, f1-score and support\n",
        "print(classification_report(y_test, y_svc))"
      ],
      "metadata": {
        "colab": {
          "base_uri": "https://localhost:8080/"
        },
        "id": "P9mytMGX1sAc",
        "outputId": "a485f8d0-15ee-459a-d837-aca2466c80df"
      },
      "execution_count": 59,
      "outputs": [
        {
          "output_type": "stream",
          "name": "stdout",
          "text": [
            "              precision    recall  f1-score   support\n",
            "\n",
            "           0       0.21      0.87      0.34       814\n",
            "           1       0.50      0.00      0.01       452\n",
            "           2       0.22      0.17      0.19       460\n",
            "           3       0.00      0.00      0.00       222\n",
            "           4       0.00      0.00      0.00       268\n",
            "           5       0.00      0.00      0.00       265\n",
            "           6       0.00      0.00      0.00       258\n",
            "           7       0.00      0.00      0.00       441\n",
            "           8       0.21      0.16      0.18       431\n",
            "           9       0.29      0.04      0.07       550\n",
            "\n",
            "    accuracy                           0.21      4161\n",
            "   macro avg       0.14      0.12      0.08      4161\n",
            "weighted avg       0.18      0.21      0.12      4161\n",
            "\n"
          ]
        },
        {
          "output_type": "stream",
          "name": "stderr",
          "text": [
            "/usr/local/lib/python3.10/dist-packages/sklearn/metrics/_classification.py:1344: UndefinedMetricWarning: Precision and F-score are ill-defined and being set to 0.0 in labels with no predicted samples. Use `zero_division` parameter to control this behavior.\n",
            "  _warn_prf(average, modifier, msg_start, len(result))\n"
          ]
        }
      ]
    },
    {
      "cell_type": "code",
      "source": [
        "from sklearn.naive_bayes import GaussianNB"
      ],
      "metadata": {
        "id": "_jZ1AkhM1sCx"
      },
      "execution_count": 62,
      "outputs": []
    },
    {
      "cell_type": "code",
      "source": [
        "gb= GaussianNB()"
      ],
      "metadata": {
        "id": "tuul2HVm1sFT"
      },
      "execution_count": 63,
      "outputs": []
    },
    {
      "cell_type": "code",
      "source": [
        "gb.fit(X_train,y_train)"
      ],
      "metadata": {
        "colab": {
          "base_uri": "https://localhost:8080/",
          "height": 74
        },
        "id": "KMcuMdpz1sHz",
        "outputId": "e2fb7227-1bb8-4161-fefb-7bb8e8aa1c69"
      },
      "execution_count": 64,
      "outputs": [
        {
          "output_type": "execute_result",
          "data": {
            "text/plain": [
              "GaussianNB()"
            ],
            "text/html": [
              "<style>#sk-container-id-6 {color: black;background-color: white;}#sk-container-id-6 pre{padding: 0;}#sk-container-id-6 div.sk-toggleable {background-color: white;}#sk-container-id-6 label.sk-toggleable__label {cursor: pointer;display: block;width: 100%;margin-bottom: 0;padding: 0.3em;box-sizing: border-box;text-align: center;}#sk-container-id-6 label.sk-toggleable__label-arrow:before {content: \"▸\";float: left;margin-right: 0.25em;color: #696969;}#sk-container-id-6 label.sk-toggleable__label-arrow:hover:before {color: black;}#sk-container-id-6 div.sk-estimator:hover label.sk-toggleable__label-arrow:before {color: black;}#sk-container-id-6 div.sk-toggleable__content {max-height: 0;max-width: 0;overflow: hidden;text-align: left;background-color: #f0f8ff;}#sk-container-id-6 div.sk-toggleable__content pre {margin: 0.2em;color: black;border-radius: 0.25em;background-color: #f0f8ff;}#sk-container-id-6 input.sk-toggleable__control:checked~div.sk-toggleable__content {max-height: 200px;max-width: 100%;overflow: auto;}#sk-container-id-6 input.sk-toggleable__control:checked~label.sk-toggleable__label-arrow:before {content: \"▾\";}#sk-container-id-6 div.sk-estimator input.sk-toggleable__control:checked~label.sk-toggleable__label {background-color: #d4ebff;}#sk-container-id-6 div.sk-label input.sk-toggleable__control:checked~label.sk-toggleable__label {background-color: #d4ebff;}#sk-container-id-6 input.sk-hidden--visually {border: 0;clip: rect(1px 1px 1px 1px);clip: rect(1px, 1px, 1px, 1px);height: 1px;margin: -1px;overflow: hidden;padding: 0;position: absolute;width: 1px;}#sk-container-id-6 div.sk-estimator {font-family: monospace;background-color: #f0f8ff;border: 1px dotted black;border-radius: 0.25em;box-sizing: border-box;margin-bottom: 0.5em;}#sk-container-id-6 div.sk-estimator:hover {background-color: #d4ebff;}#sk-container-id-6 div.sk-parallel-item::after {content: \"\";width: 100%;border-bottom: 1px solid gray;flex-grow: 1;}#sk-container-id-6 div.sk-label:hover label.sk-toggleable__label {background-color: #d4ebff;}#sk-container-id-6 div.sk-serial::before {content: \"\";position: absolute;border-left: 1px solid gray;box-sizing: border-box;top: 0;bottom: 0;left: 50%;z-index: 0;}#sk-container-id-6 div.sk-serial {display: flex;flex-direction: column;align-items: center;background-color: white;padding-right: 0.2em;padding-left: 0.2em;position: relative;}#sk-container-id-6 div.sk-item {position: relative;z-index: 1;}#sk-container-id-6 div.sk-parallel {display: flex;align-items: stretch;justify-content: center;background-color: white;position: relative;}#sk-container-id-6 div.sk-item::before, #sk-container-id-6 div.sk-parallel-item::before {content: \"\";position: absolute;border-left: 1px solid gray;box-sizing: border-box;top: 0;bottom: 0;left: 50%;z-index: -1;}#sk-container-id-6 div.sk-parallel-item {display: flex;flex-direction: column;z-index: 1;position: relative;background-color: white;}#sk-container-id-6 div.sk-parallel-item:first-child::after {align-self: flex-end;width: 50%;}#sk-container-id-6 div.sk-parallel-item:last-child::after {align-self: flex-start;width: 50%;}#sk-container-id-6 div.sk-parallel-item:only-child::after {width: 0;}#sk-container-id-6 div.sk-dashed-wrapped {border: 1px dashed gray;margin: 0 0.4em 0.5em 0.4em;box-sizing: border-box;padding-bottom: 0.4em;background-color: white;}#sk-container-id-6 div.sk-label label {font-family: monospace;font-weight: bold;display: inline-block;line-height: 1.2em;}#sk-container-id-6 div.sk-label-container {text-align: center;}#sk-container-id-6 div.sk-container {/* jupyter's `normalize.less` sets `[hidden] { display: none; }` but bootstrap.min.css set `[hidden] { display: none !important; }` so we also need the `!important` here to be able to override the default hidden behavior on the sphinx rendered scikit-learn.org. See: https://github.com/scikit-learn/scikit-learn/issues/21755 */display: inline-block !important;position: relative;}#sk-container-id-6 div.sk-text-repr-fallback {display: none;}</style><div id=\"sk-container-id-6\" class=\"sk-top-container\"><div class=\"sk-text-repr-fallback\"><pre>GaussianNB()</pre><b>In a Jupyter environment, please rerun this cell to show the HTML representation or trust the notebook. <br />On GitHub, the HTML representation is unable to render, please try loading this page with nbviewer.org.</b></div><div class=\"sk-container\" hidden><div class=\"sk-item\"><div class=\"sk-estimator sk-toggleable\"><input class=\"sk-toggleable__control sk-hidden--visually\" id=\"sk-estimator-id-6\" type=\"checkbox\" checked><label for=\"sk-estimator-id-6\" class=\"sk-toggleable__label sk-toggleable__label-arrow\">GaussianNB</label><div class=\"sk-toggleable__content\"><pre>GaussianNB()</pre></div></div></div></div></div>"
            ]
          },
          "metadata": {},
          "execution_count": 64
        }
      ]
    },
    {
      "cell_type": "code",
      "source": [
        "y_gb=gb.predict(X_test)"
      ],
      "metadata": {
        "id": "kWDW7Pqf1sKA"
      },
      "execution_count": 65,
      "outputs": []
    },
    {
      "cell_type": "code",
      "source": [
        "print(np.concatenate((y_gb.reshape(len(y_gb),1),y_test.reshape(len(y_test),1)),1))"
      ],
      "metadata": {
        "colab": {
          "base_uri": "https://localhost:8080/"
        },
        "id": "gOBe7TJh1sMl",
        "outputId": "7c3ac913-c607-4f8d-d6a6-cdee04891a67"
      },
      "execution_count": 66,
      "outputs": [
        {
          "output_type": "stream",
          "name": "stdout",
          "text": [
            "[[7 5]\n",
            " [5 3]\n",
            " [5 1]\n",
            " ...\n",
            " [7 7]\n",
            " [5 9]\n",
            " [5 1]]\n"
          ]
        }
      ]
    },
    {
      "cell_type": "code",
      "source": [
        "from sklearn.metrics import accuracy_score #Metric scoring functions\n",
        "accuracy_score(y_test, y_gb)"
      ],
      "metadata": {
        "colab": {
          "base_uri": "https://localhost:8080/"
        },
        "id": "k42vv9XY1sPG",
        "outputId": "3e9810ef-2478-42a2-f7e9-45197bed2c9f"
      },
      "execution_count": 67,
      "outputs": [
        {
          "output_type": "execute_result",
          "data": {
            "text/plain": [
              "0.09613073780341264"
            ]
          },
          "metadata": {},
          "execution_count": 67
        }
      ]
    },
    {
      "cell_type": "code",
      "source": [
        "from sklearn.metrics import classification_report #Precision, recall, f1-score and support\n",
        "print(classification_report(y_test, y_gb))"
      ],
      "metadata": {
        "colab": {
          "base_uri": "https://localhost:8080/"
        },
        "id": "8507Zt3e1sRs",
        "outputId": "e8d7f738-df3b-416c-da86-af5cfa0a6c89"
      },
      "execution_count": 68,
      "outputs": [
        {
          "output_type": "stream",
          "name": "stdout",
          "text": [
            "              precision    recall  f1-score   support\n",
            "\n",
            "           0       0.10      0.01      0.02       814\n",
            "           1       0.24      0.03      0.05       452\n",
            "           2       0.30      0.01      0.02       460\n",
            "           3       0.05      0.05      0.05       222\n",
            "           4       0.40      0.03      0.06       268\n",
            "           5       0.08      0.78      0.14       265\n",
            "           6       0.00      0.00      0.00       258\n",
            "           7       0.14      0.27      0.18       441\n",
            "           8       0.00      0.00      0.00       431\n",
            "           9       0.19      0.05      0.08       550\n",
            "\n",
            "    accuracy                           0.10      4161\n",
            "   macro avg       0.15      0.12      0.06      4161\n",
            "weighted avg       0.15      0.10      0.06      4161\n",
            "\n"
          ]
        },
        {
          "output_type": "stream",
          "name": "stderr",
          "text": [
            "/usr/local/lib/python3.10/dist-packages/sklearn/metrics/_classification.py:1344: UndefinedMetricWarning: Precision and F-score are ill-defined and being set to 0.0 in labels with no predicted samples. Use `zero_division` parameter to control this behavior.\n",
            "  _warn_prf(average, modifier, msg_start, len(result))\n",
            "/usr/local/lib/python3.10/dist-packages/sklearn/metrics/_classification.py:1344: UndefinedMetricWarning: Precision and F-score are ill-defined and being set to 0.0 in labels with no predicted samples. Use `zero_division` parameter to control this behavior.\n",
            "  _warn_prf(average, modifier, msg_start, len(result))\n",
            "/usr/local/lib/python3.10/dist-packages/sklearn/metrics/_classification.py:1344: UndefinedMetricWarning: Precision and F-score are ill-defined and being set to 0.0 in labels with no predicted samples. Use `zero_division` parameter to control this behavior.\n",
            "  _warn_prf(average, modifier, msg_start, len(result))\n"
          ]
        }
      ]
    },
    {
      "cell_type": "code",
      "source": [
        "from sklearn.tree import DecisionTreeClassifier"
      ],
      "metadata": {
        "id": "TPqLwLXf37DK"
      },
      "execution_count": 69,
      "outputs": []
    },
    {
      "cell_type": "code",
      "source": [
        "dt=DecisionTreeClassifier(criterion='entropy')"
      ],
      "metadata": {
        "id": "JLzVtL-04M49"
      },
      "execution_count": 71,
      "outputs": []
    },
    {
      "cell_type": "code",
      "source": [
        "dt.fit(X_train,y_train)"
      ],
      "metadata": {
        "colab": {
          "base_uri": "https://localhost:8080/",
          "height": 74
        },
        "id": "UOFsU3du4PEW",
        "outputId": "91934d54-82d9-4615-f051-e1e654171418"
      },
      "execution_count": 72,
      "outputs": [
        {
          "output_type": "execute_result",
          "data": {
            "text/plain": [
              "DecisionTreeClassifier(criterion='entropy')"
            ],
            "text/html": [
              "<style>#sk-container-id-7 {color: black;background-color: white;}#sk-container-id-7 pre{padding: 0;}#sk-container-id-7 div.sk-toggleable {background-color: white;}#sk-container-id-7 label.sk-toggleable__label {cursor: pointer;display: block;width: 100%;margin-bottom: 0;padding: 0.3em;box-sizing: border-box;text-align: center;}#sk-container-id-7 label.sk-toggleable__label-arrow:before {content: \"▸\";float: left;margin-right: 0.25em;color: #696969;}#sk-container-id-7 label.sk-toggleable__label-arrow:hover:before {color: black;}#sk-container-id-7 div.sk-estimator:hover label.sk-toggleable__label-arrow:before {color: black;}#sk-container-id-7 div.sk-toggleable__content {max-height: 0;max-width: 0;overflow: hidden;text-align: left;background-color: #f0f8ff;}#sk-container-id-7 div.sk-toggleable__content pre {margin: 0.2em;color: black;border-radius: 0.25em;background-color: #f0f8ff;}#sk-container-id-7 input.sk-toggleable__control:checked~div.sk-toggleable__content {max-height: 200px;max-width: 100%;overflow: auto;}#sk-container-id-7 input.sk-toggleable__control:checked~label.sk-toggleable__label-arrow:before {content: \"▾\";}#sk-container-id-7 div.sk-estimator input.sk-toggleable__control:checked~label.sk-toggleable__label {background-color: #d4ebff;}#sk-container-id-7 div.sk-label input.sk-toggleable__control:checked~label.sk-toggleable__label {background-color: #d4ebff;}#sk-container-id-7 input.sk-hidden--visually {border: 0;clip: rect(1px 1px 1px 1px);clip: rect(1px, 1px, 1px, 1px);height: 1px;margin: -1px;overflow: hidden;padding: 0;position: absolute;width: 1px;}#sk-container-id-7 div.sk-estimator {font-family: monospace;background-color: #f0f8ff;border: 1px dotted black;border-radius: 0.25em;box-sizing: border-box;margin-bottom: 0.5em;}#sk-container-id-7 div.sk-estimator:hover {background-color: #d4ebff;}#sk-container-id-7 div.sk-parallel-item::after {content: \"\";width: 100%;border-bottom: 1px solid gray;flex-grow: 1;}#sk-container-id-7 div.sk-label:hover label.sk-toggleable__label {background-color: #d4ebff;}#sk-container-id-7 div.sk-serial::before {content: \"\";position: absolute;border-left: 1px solid gray;box-sizing: border-box;top: 0;bottom: 0;left: 50%;z-index: 0;}#sk-container-id-7 div.sk-serial {display: flex;flex-direction: column;align-items: center;background-color: white;padding-right: 0.2em;padding-left: 0.2em;position: relative;}#sk-container-id-7 div.sk-item {position: relative;z-index: 1;}#sk-container-id-7 div.sk-parallel {display: flex;align-items: stretch;justify-content: center;background-color: white;position: relative;}#sk-container-id-7 div.sk-item::before, #sk-container-id-7 div.sk-parallel-item::before {content: \"\";position: absolute;border-left: 1px solid gray;box-sizing: border-box;top: 0;bottom: 0;left: 50%;z-index: -1;}#sk-container-id-7 div.sk-parallel-item {display: flex;flex-direction: column;z-index: 1;position: relative;background-color: white;}#sk-container-id-7 div.sk-parallel-item:first-child::after {align-self: flex-end;width: 50%;}#sk-container-id-7 div.sk-parallel-item:last-child::after {align-self: flex-start;width: 50%;}#sk-container-id-7 div.sk-parallel-item:only-child::after {width: 0;}#sk-container-id-7 div.sk-dashed-wrapped {border: 1px dashed gray;margin: 0 0.4em 0.5em 0.4em;box-sizing: border-box;padding-bottom: 0.4em;background-color: white;}#sk-container-id-7 div.sk-label label {font-family: monospace;font-weight: bold;display: inline-block;line-height: 1.2em;}#sk-container-id-7 div.sk-label-container {text-align: center;}#sk-container-id-7 div.sk-container {/* jupyter's `normalize.less` sets `[hidden] { display: none; }` but bootstrap.min.css set `[hidden] { display: none !important; }` so we also need the `!important` here to be able to override the default hidden behavior on the sphinx rendered scikit-learn.org. See: https://github.com/scikit-learn/scikit-learn/issues/21755 */display: inline-block !important;position: relative;}#sk-container-id-7 div.sk-text-repr-fallback {display: none;}</style><div id=\"sk-container-id-7\" class=\"sk-top-container\"><div class=\"sk-text-repr-fallback\"><pre>DecisionTreeClassifier(criterion=&#x27;entropy&#x27;)</pre><b>In a Jupyter environment, please rerun this cell to show the HTML representation or trust the notebook. <br />On GitHub, the HTML representation is unable to render, please try loading this page with nbviewer.org.</b></div><div class=\"sk-container\" hidden><div class=\"sk-item\"><div class=\"sk-estimator sk-toggleable\"><input class=\"sk-toggleable__control sk-hidden--visually\" id=\"sk-estimator-id-7\" type=\"checkbox\" checked><label for=\"sk-estimator-id-7\" class=\"sk-toggleable__label sk-toggleable__label-arrow\">DecisionTreeClassifier</label><div class=\"sk-toggleable__content\"><pre>DecisionTreeClassifier(criterion=&#x27;entropy&#x27;)</pre></div></div></div></div></div>"
            ]
          },
          "metadata": {},
          "execution_count": 72
        }
      ]
    },
    {
      "cell_type": "code",
      "source": [
        "y_dt=dt.predict(X_test)"
      ],
      "metadata": {
        "id": "NjGLAF9v4WN1"
      },
      "execution_count": 73,
      "outputs": []
    },
    {
      "cell_type": "code",
      "source": [
        "print(np.concatenate((y_dt.reshape(len(y_dt),1),y_test.reshape(len(y_test),1)),1))"
      ],
      "metadata": {
        "colab": {
          "base_uri": "https://localhost:8080/"
        },
        "id": "Fv2RgQdP4aPO",
        "outputId": "b63f75c4-43c5-4e85-a6ec-63a04a0bc7bf"
      },
      "execution_count": 75,
      "outputs": [
        {
          "output_type": "stream",
          "name": "stdout",
          "text": [
            "[[0 5]\n",
            " [3 3]\n",
            " [2 1]\n",
            " ...\n",
            " [2 7]\n",
            " [0 9]\n",
            " [6 1]]\n"
          ]
        }
      ]
    },
    {
      "cell_type": "code",
      "source": [
        "from sklearn.metrics import accuracy_score #Metric scoring functions\n",
        "accuracy_score(y_test, y_dt)"
      ],
      "metadata": {
        "colab": {
          "base_uri": "https://localhost:8080/"
        },
        "id": "oOS2Zb2l4dV7",
        "outputId": "0d4497c7-c4e1-4dbc-bde8-8e60dedb301d"
      },
      "execution_count": 76,
      "outputs": [
        {
          "output_type": "execute_result",
          "data": {
            "text/plain": [
              "0.4313866858928142"
            ]
          },
          "metadata": {},
          "execution_count": 76
        }
      ]
    },
    {
      "cell_type": "code",
      "source": [
        "from sklearn.metrics import classification_report #Precision, recall, f1-score and support\n",
        "print(classification_report(y_test, y_dt))"
      ],
      "metadata": {
        "colab": {
          "base_uri": "https://localhost:8080/"
        },
        "id": "MKXc7Rbx4dZ5",
        "outputId": "fdacf053-fd6f-4799-a8ce-2e7a1d4032b2"
      },
      "execution_count": 74,
      "outputs": [
        {
          "output_type": "stream",
          "name": "stdout",
          "text": [
            "              precision    recall  f1-score   support\n",
            "\n",
            "           0       0.51      0.72      0.59       814\n",
            "           1       0.34      0.33      0.34       452\n",
            "           2       0.60      0.57      0.58       460\n",
            "           3       0.13      0.14      0.14       222\n",
            "           4       0.47      0.30      0.37       268\n",
            "           5       0.31      0.26      0.28       265\n",
            "           6       0.20      0.18      0.19       258\n",
            "           7       0.42      0.43      0.42       441\n",
            "           8       0.40      0.34      0.36       431\n",
            "           9       0.53      0.43      0.48       550\n",
            "\n",
            "    accuracy                           0.43      4161\n",
            "   macro avg       0.39      0.37      0.37      4161\n",
            "weighted avg       0.43      0.43      0.42      4161\n",
            "\n"
          ]
        }
      ]
    },
    {
      "cell_type": "code",
      "source": [
        "from sklearn.ensemble import RandomForestClassifier"
      ],
      "metadata": {
        "id": "OAXhaaL54kXe"
      },
      "execution_count": 77,
      "outputs": []
    },
    {
      "cell_type": "code",
      "source": [
        "rf=RandomForestClassifier(n_estimators=300,  criterion='entropy')"
      ],
      "metadata": {
        "id": "uE-O8XFV4zU0"
      },
      "execution_count": 91,
      "outputs": []
    },
    {
      "cell_type": "code",
      "source": [
        "rf.fit(X_train,y_train)"
      ],
      "metadata": {
        "colab": {
          "base_uri": "https://localhost:8080/",
          "height": 74
        },
        "id": "ljb2ZC-y46Ht",
        "outputId": "d896fb4a-b5dd-4728-a169-96f8f454bf63"
      },
      "execution_count": 92,
      "outputs": [
        {
          "output_type": "execute_result",
          "data": {
            "text/plain": [
              "RandomForestClassifier(criterion='entropy', n_estimators=300)"
            ],
            "text/html": [
              "<style>#sk-container-id-10 {color: black;background-color: white;}#sk-container-id-10 pre{padding: 0;}#sk-container-id-10 div.sk-toggleable {background-color: white;}#sk-container-id-10 label.sk-toggleable__label {cursor: pointer;display: block;width: 100%;margin-bottom: 0;padding: 0.3em;box-sizing: border-box;text-align: center;}#sk-container-id-10 label.sk-toggleable__label-arrow:before {content: \"▸\";float: left;margin-right: 0.25em;color: #696969;}#sk-container-id-10 label.sk-toggleable__label-arrow:hover:before {color: black;}#sk-container-id-10 div.sk-estimator:hover label.sk-toggleable__label-arrow:before {color: black;}#sk-container-id-10 div.sk-toggleable__content {max-height: 0;max-width: 0;overflow: hidden;text-align: left;background-color: #f0f8ff;}#sk-container-id-10 div.sk-toggleable__content pre {margin: 0.2em;color: black;border-radius: 0.25em;background-color: #f0f8ff;}#sk-container-id-10 input.sk-toggleable__control:checked~div.sk-toggleable__content {max-height: 200px;max-width: 100%;overflow: auto;}#sk-container-id-10 input.sk-toggleable__control:checked~label.sk-toggleable__label-arrow:before {content: \"▾\";}#sk-container-id-10 div.sk-estimator input.sk-toggleable__control:checked~label.sk-toggleable__label {background-color: #d4ebff;}#sk-container-id-10 div.sk-label input.sk-toggleable__control:checked~label.sk-toggleable__label {background-color: #d4ebff;}#sk-container-id-10 input.sk-hidden--visually {border: 0;clip: rect(1px 1px 1px 1px);clip: rect(1px, 1px, 1px, 1px);height: 1px;margin: -1px;overflow: hidden;padding: 0;position: absolute;width: 1px;}#sk-container-id-10 div.sk-estimator {font-family: monospace;background-color: #f0f8ff;border: 1px dotted black;border-radius: 0.25em;box-sizing: border-box;margin-bottom: 0.5em;}#sk-container-id-10 div.sk-estimator:hover {background-color: #d4ebff;}#sk-container-id-10 div.sk-parallel-item::after {content: \"\";width: 100%;border-bottom: 1px solid gray;flex-grow: 1;}#sk-container-id-10 div.sk-label:hover label.sk-toggleable__label {background-color: #d4ebff;}#sk-container-id-10 div.sk-serial::before {content: \"\";position: absolute;border-left: 1px solid gray;box-sizing: border-box;top: 0;bottom: 0;left: 50%;z-index: 0;}#sk-container-id-10 div.sk-serial {display: flex;flex-direction: column;align-items: center;background-color: white;padding-right: 0.2em;padding-left: 0.2em;position: relative;}#sk-container-id-10 div.sk-item {position: relative;z-index: 1;}#sk-container-id-10 div.sk-parallel {display: flex;align-items: stretch;justify-content: center;background-color: white;position: relative;}#sk-container-id-10 div.sk-item::before, #sk-container-id-10 div.sk-parallel-item::before {content: \"\";position: absolute;border-left: 1px solid gray;box-sizing: border-box;top: 0;bottom: 0;left: 50%;z-index: -1;}#sk-container-id-10 div.sk-parallel-item {display: flex;flex-direction: column;z-index: 1;position: relative;background-color: white;}#sk-container-id-10 div.sk-parallel-item:first-child::after {align-self: flex-end;width: 50%;}#sk-container-id-10 div.sk-parallel-item:last-child::after {align-self: flex-start;width: 50%;}#sk-container-id-10 div.sk-parallel-item:only-child::after {width: 0;}#sk-container-id-10 div.sk-dashed-wrapped {border: 1px dashed gray;margin: 0 0.4em 0.5em 0.4em;box-sizing: border-box;padding-bottom: 0.4em;background-color: white;}#sk-container-id-10 div.sk-label label {font-family: monospace;font-weight: bold;display: inline-block;line-height: 1.2em;}#sk-container-id-10 div.sk-label-container {text-align: center;}#sk-container-id-10 div.sk-container {/* jupyter's `normalize.less` sets `[hidden] { display: none; }` but bootstrap.min.css set `[hidden] { display: none !important; }` so we also need the `!important` here to be able to override the default hidden behavior on the sphinx rendered scikit-learn.org. See: https://github.com/scikit-learn/scikit-learn/issues/21755 */display: inline-block !important;position: relative;}#sk-container-id-10 div.sk-text-repr-fallback {display: none;}</style><div id=\"sk-container-id-10\" class=\"sk-top-container\"><div class=\"sk-text-repr-fallback\"><pre>RandomForestClassifier(criterion=&#x27;entropy&#x27;, n_estimators=300)</pre><b>In a Jupyter environment, please rerun this cell to show the HTML representation or trust the notebook. <br />On GitHub, the HTML representation is unable to render, please try loading this page with nbviewer.org.</b></div><div class=\"sk-container\" hidden><div class=\"sk-item\"><div class=\"sk-estimator sk-toggleable\"><input class=\"sk-toggleable__control sk-hidden--visually\" id=\"sk-estimator-id-10\" type=\"checkbox\" checked><label for=\"sk-estimator-id-10\" class=\"sk-toggleable__label sk-toggleable__label-arrow\">RandomForestClassifier</label><div class=\"sk-toggleable__content\"><pre>RandomForestClassifier(criterion=&#x27;entropy&#x27;, n_estimators=300)</pre></div></div></div></div></div>"
            ]
          },
          "metadata": {},
          "execution_count": 92
        }
      ]
    },
    {
      "cell_type": "code",
      "source": [
        "y_rf=rf.predict(X_test)"
      ],
      "metadata": {
        "id": "JIHFlLPj48lr"
      },
      "execution_count": 93,
      "outputs": []
    },
    {
      "cell_type": "code",
      "source": [
        "print(np.concatenate((y_rf.reshape(len(y_rf),1),y_test.reshape(len(y_test),1)),1))"
      ],
      "metadata": {
        "colab": {
          "base_uri": "https://localhost:8080/"
        },
        "id": "2WBAbwUY5ACj",
        "outputId": "a418b538-68c8-4512-9cf5-31a8d2156bf9"
      },
      "execution_count": 94,
      "outputs": [
        {
          "output_type": "stream",
          "name": "stdout",
          "text": [
            "[[0 5]\n",
            " [3 3]\n",
            " [2 1]\n",
            " ...\n",
            " [2 7]\n",
            " [0 9]\n",
            " [6 1]]\n"
          ]
        }
      ]
    },
    {
      "cell_type": "code",
      "source": [
        "from sklearn.metrics import accuracy_score #Metric scoring functions\n",
        "accuracy_score(y_test, y_rf)"
      ],
      "metadata": {
        "colab": {
          "base_uri": "https://localhost:8080/"
        },
        "id": "o5fNTMtV5FzN",
        "outputId": "1eaa1769-d560-4ad0-a490-c2a4d51d9886"
      },
      "execution_count": 95,
      "outputs": [
        {
          "output_type": "execute_result",
          "data": {
            "text/plain": [
              "0.42225426580149"
            ]
          },
          "metadata": {},
          "execution_count": 95
        }
      ]
    },
    {
      "cell_type": "code",
      "source": [
        "from sklearn.metrics import classification_report #Precision, recall, f1-score and support\n",
        "print(classification_report(y_test, y_rf))"
      ],
      "metadata": {
        "colab": {
          "base_uri": "https://localhost:8080/"
        },
        "id": "eLid72xu5F7t",
        "outputId": "6b9fa741-b431-49b8-f2bb-80b1e84a00a4"
      },
      "execution_count": 96,
      "outputs": [
        {
          "output_type": "stream",
          "name": "stdout",
          "text": [
            "              precision    recall  f1-score   support\n",
            "\n",
            "           0       0.54      0.68      0.60       814\n",
            "           1       0.38      0.31      0.34       452\n",
            "           2       0.56      0.55      0.55       460\n",
            "           3       0.12      0.11      0.11       222\n",
            "           4       0.44      0.29      0.35       268\n",
            "           5       0.28      0.25      0.26       265\n",
            "           6       0.18      0.22      0.20       258\n",
            "           7       0.40      0.39      0.40       441\n",
            "           8       0.38      0.35      0.36       431\n",
            "           9       0.46      0.47      0.47       550\n",
            "\n",
            "    accuracy                           0.42      4161\n",
            "   macro avg       0.38      0.36      0.37      4161\n",
            "weighted avg       0.42      0.42      0.42      4161\n",
            "\n"
          ]
        }
      ]
    },
    {
      "cell_type": "code",
      "source": [
        "from sklearn.neighbors import KNeighborsClassifier"
      ],
      "metadata": {
        "id": "pyqStzqg5S6J"
      },
      "execution_count": 97,
      "outputs": []
    },
    {
      "cell_type": "code",
      "source": [
        "knn=KNeighborsClassifier()"
      ],
      "metadata": {
        "id": "LTRWL6o_5uM1"
      },
      "execution_count": 98,
      "outputs": []
    },
    {
      "cell_type": "code",
      "source": [
        "from sklearn.model_selection import GridSearchCV\n",
        "params = {\"n_neighbors\": np.arange(1,3),\n",
        "              \"metric\": [\"euclidean\", \"cityblock\"]}\n",
        "grid = GridSearchCV(estimator=knn,\n",
        "                        param_grid=params)\n",
        "grid.fit(X_train, y_train)\n",
        "print(grid.best_score_)\n",
        "print(grid.best_estimator_.n_neighbors)\n"
      ],
      "metadata": {
        "colab": {
          "base_uri": "https://localhost:8080/"
        },
        "id": "oQwPSbpY5wb6",
        "outputId": "c4f61fdb-dfb3-4bfa-9042-168ec2fbe11a"
      },
      "execution_count": 99,
      "outputs": [
        {
          "output_type": "stream",
          "name": "stdout",
          "text": [
            "0.395686995257296\n",
            "1\n"
          ]
        }
      ]
    },
    {
      "cell_type": "code",
      "source": [
        "knn=KNeighborsClassifier(n_neighbors=1,metric='minkowski')"
      ],
      "metadata": {
        "id": "tYkRNxT56HbH"
      },
      "execution_count": 102,
      "outputs": []
    },
    {
      "cell_type": "code",
      "source": [
        "knn.fit(X_train,y_train)"
      ],
      "metadata": {
        "colab": {
          "base_uri": "https://localhost:8080/",
          "height": 74
        },
        "id": "t7LKvYpv6RSa",
        "outputId": "c6897dc2-e9bd-4c87-f20b-518b59170c9a"
      },
      "execution_count": 103,
      "outputs": [
        {
          "output_type": "execute_result",
          "data": {
            "text/plain": [
              "KNeighborsClassifier(n_neighbors=1)"
            ],
            "text/html": [
              "<style>#sk-container-id-12 {color: black;background-color: white;}#sk-container-id-12 pre{padding: 0;}#sk-container-id-12 div.sk-toggleable {background-color: white;}#sk-container-id-12 label.sk-toggleable__label {cursor: pointer;display: block;width: 100%;margin-bottom: 0;padding: 0.3em;box-sizing: border-box;text-align: center;}#sk-container-id-12 label.sk-toggleable__label-arrow:before {content: \"▸\";float: left;margin-right: 0.25em;color: #696969;}#sk-container-id-12 label.sk-toggleable__label-arrow:hover:before {color: black;}#sk-container-id-12 div.sk-estimator:hover label.sk-toggleable__label-arrow:before {color: black;}#sk-container-id-12 div.sk-toggleable__content {max-height: 0;max-width: 0;overflow: hidden;text-align: left;background-color: #f0f8ff;}#sk-container-id-12 div.sk-toggleable__content pre {margin: 0.2em;color: black;border-radius: 0.25em;background-color: #f0f8ff;}#sk-container-id-12 input.sk-toggleable__control:checked~div.sk-toggleable__content {max-height: 200px;max-width: 100%;overflow: auto;}#sk-container-id-12 input.sk-toggleable__control:checked~label.sk-toggleable__label-arrow:before {content: \"▾\";}#sk-container-id-12 div.sk-estimator input.sk-toggleable__control:checked~label.sk-toggleable__label {background-color: #d4ebff;}#sk-container-id-12 div.sk-label input.sk-toggleable__control:checked~label.sk-toggleable__label {background-color: #d4ebff;}#sk-container-id-12 input.sk-hidden--visually {border: 0;clip: rect(1px 1px 1px 1px);clip: rect(1px, 1px, 1px, 1px);height: 1px;margin: -1px;overflow: hidden;padding: 0;position: absolute;width: 1px;}#sk-container-id-12 div.sk-estimator {font-family: monospace;background-color: #f0f8ff;border: 1px dotted black;border-radius: 0.25em;box-sizing: border-box;margin-bottom: 0.5em;}#sk-container-id-12 div.sk-estimator:hover {background-color: #d4ebff;}#sk-container-id-12 div.sk-parallel-item::after {content: \"\";width: 100%;border-bottom: 1px solid gray;flex-grow: 1;}#sk-container-id-12 div.sk-label:hover label.sk-toggleable__label {background-color: #d4ebff;}#sk-container-id-12 div.sk-serial::before {content: \"\";position: absolute;border-left: 1px solid gray;box-sizing: border-box;top: 0;bottom: 0;left: 50%;z-index: 0;}#sk-container-id-12 div.sk-serial {display: flex;flex-direction: column;align-items: center;background-color: white;padding-right: 0.2em;padding-left: 0.2em;position: relative;}#sk-container-id-12 div.sk-item {position: relative;z-index: 1;}#sk-container-id-12 div.sk-parallel {display: flex;align-items: stretch;justify-content: center;background-color: white;position: relative;}#sk-container-id-12 div.sk-item::before, #sk-container-id-12 div.sk-parallel-item::before {content: \"\";position: absolute;border-left: 1px solid gray;box-sizing: border-box;top: 0;bottom: 0;left: 50%;z-index: -1;}#sk-container-id-12 div.sk-parallel-item {display: flex;flex-direction: column;z-index: 1;position: relative;background-color: white;}#sk-container-id-12 div.sk-parallel-item:first-child::after {align-self: flex-end;width: 50%;}#sk-container-id-12 div.sk-parallel-item:last-child::after {align-self: flex-start;width: 50%;}#sk-container-id-12 div.sk-parallel-item:only-child::after {width: 0;}#sk-container-id-12 div.sk-dashed-wrapped {border: 1px dashed gray;margin: 0 0.4em 0.5em 0.4em;box-sizing: border-box;padding-bottom: 0.4em;background-color: white;}#sk-container-id-12 div.sk-label label {font-family: monospace;font-weight: bold;display: inline-block;line-height: 1.2em;}#sk-container-id-12 div.sk-label-container {text-align: center;}#sk-container-id-12 div.sk-container {/* jupyter's `normalize.less` sets `[hidden] { display: none; }` but bootstrap.min.css set `[hidden] { display: none !important; }` so we also need the `!important` here to be able to override the default hidden behavior on the sphinx rendered scikit-learn.org. See: https://github.com/scikit-learn/scikit-learn/issues/21755 */display: inline-block !important;position: relative;}#sk-container-id-12 div.sk-text-repr-fallback {display: none;}</style><div id=\"sk-container-id-12\" class=\"sk-top-container\"><div class=\"sk-text-repr-fallback\"><pre>KNeighborsClassifier(n_neighbors=1)</pre><b>In a Jupyter environment, please rerun this cell to show the HTML representation or trust the notebook. <br />On GitHub, the HTML representation is unable to render, please try loading this page with nbviewer.org.</b></div><div class=\"sk-container\" hidden><div class=\"sk-item\"><div class=\"sk-estimator sk-toggleable\"><input class=\"sk-toggleable__control sk-hidden--visually\" id=\"sk-estimator-id-12\" type=\"checkbox\" checked><label for=\"sk-estimator-id-12\" class=\"sk-toggleable__label sk-toggleable__label-arrow\">KNeighborsClassifier</label><div class=\"sk-toggleable__content\"><pre>KNeighborsClassifier(n_neighbors=1)</pre></div></div></div></div></div>"
            ]
          },
          "metadata": {},
          "execution_count": 103
        }
      ]
    },
    {
      "cell_type": "code",
      "source": [
        "y_knn=knn.predict(X_test)"
      ],
      "metadata": {
        "id": "T_kT5MYH6UbD"
      },
      "execution_count": 107,
      "outputs": []
    },
    {
      "cell_type": "code",
      "source": [
        "print(np.concatenate((y_knn.reshape(len(y_knn),1),y_test.reshape(len(y_test),1)),1))"
      ],
      "metadata": {
        "colab": {
          "base_uri": "https://localhost:8080/"
        },
        "id": "YSIM1ETO6aob",
        "outputId": "013ad3f5-086f-4c50-d26e-0435a546ca6e"
      },
      "execution_count": 108,
      "outputs": [
        {
          "output_type": "stream",
          "name": "stdout",
          "text": [
            "[[0 5]\n",
            " [3 3]\n",
            " [1 1]\n",
            " ...\n",
            " [2 7]\n",
            " [0 9]\n",
            " [6 1]]\n"
          ]
        }
      ]
    },
    {
      "cell_type": "code",
      "source": [
        "from sklearn.metrics import accuracy_score #Metric scoring functions\n",
        "accuracy_score(y_test, y_knn)"
      ],
      "metadata": {
        "colab": {
          "base_uri": "https://localhost:8080/"
        },
        "id": "fhvodVrJ6bKm",
        "outputId": "40a99282-e90a-4387-9fe6-fa483c9a3d6a"
      },
      "execution_count": 109,
      "outputs": [
        {
          "output_type": "execute_result",
          "data": {
            "text/plain": [
              "0.39605863975006006"
            ]
          },
          "metadata": {},
          "execution_count": 109
        }
      ]
    },
    {
      "cell_type": "code",
      "source": [
        "from sklearn.metrics import classification_report #Precision, recall, f1-score and support\n",
        "print(classification_report(y_test, y_knn))"
      ],
      "metadata": {
        "colab": {
          "base_uri": "https://localhost:8080/"
        },
        "id": "fWU0B8bv6bNW",
        "outputId": "87314ac7-77da-4d53-9132-3232855c6cf8"
      },
      "execution_count": 110,
      "outputs": [
        {
          "output_type": "stream",
          "name": "stdout",
          "text": [
            "              precision    recall  f1-score   support\n",
            "\n",
            "           0       0.57      0.58      0.57       814\n",
            "           1       0.33      0.31      0.32       452\n",
            "           2       0.55      0.57      0.56       460\n",
            "           3       0.08      0.10      0.09       222\n",
            "           4       0.30      0.26      0.28       268\n",
            "           5       0.19      0.17      0.18       265\n",
            "           6       0.15      0.20      0.17       258\n",
            "           7       0.43      0.38      0.40       441\n",
            "           8       0.35      0.35      0.35       431\n",
            "           9       0.49      0.48      0.48       550\n",
            "\n",
            "    accuracy                           0.40      4161\n",
            "   macro avg       0.34      0.34      0.34      4161\n",
            "weighted avg       0.40      0.40      0.40      4161\n",
            "\n"
          ]
        }
      ]
    },
    {
      "cell_type": "code",
      "source": [
        "from xgboost import XGBClassifier\n",
        "xg = XGBClassifier()"
      ],
      "metadata": {
        "id": "S6IMQxfz6mxK"
      },
      "execution_count": 111,
      "outputs": []
    },
    {
      "cell_type": "code",
      "source": [
        "xg.fit(X_train,y_train)"
      ],
      "metadata": {
        "colab": {
          "base_uri": "https://localhost:8080/",
          "height": 244
        },
        "id": "FYROLv767Gfa",
        "outputId": "70fce71c-7a40-418e-d9cf-7d999a9a0c5b"
      },
      "execution_count": 112,
      "outputs": [
        {
          "output_type": "execute_result",
          "data": {
            "text/plain": [
              "XGBClassifier(base_score=None, booster=None, callbacks=None,\n",
              "              colsample_bylevel=None, colsample_bynode=None,\n",
              "              colsample_bytree=None, early_stopping_rounds=None,\n",
              "              enable_categorical=False, eval_metric=None, feature_types=None,\n",
              "              gamma=None, gpu_id=None, grow_policy=None, importance_type=None,\n",
              "              interaction_constraints=None, learning_rate=None, max_bin=None,\n",
              "              max_cat_threshold=None, max_cat_to_onehot=None,\n",
              "              max_delta_step=None, max_depth=None, max_leaves=None,\n",
              "              min_child_weight=None, missing=nan, monotone_constraints=None,\n",
              "              n_estimators=100, n_jobs=None, num_parallel_tree=None,\n",
              "              objective='multi:softprob', predictor=None, ...)"
            ],
            "text/html": [
              "<style>#sk-container-id-13 {color: black;background-color: white;}#sk-container-id-13 pre{padding: 0;}#sk-container-id-13 div.sk-toggleable {background-color: white;}#sk-container-id-13 label.sk-toggleable__label {cursor: pointer;display: block;width: 100%;margin-bottom: 0;padding: 0.3em;box-sizing: border-box;text-align: center;}#sk-container-id-13 label.sk-toggleable__label-arrow:before {content: \"▸\";float: left;margin-right: 0.25em;color: #696969;}#sk-container-id-13 label.sk-toggleable__label-arrow:hover:before {color: black;}#sk-container-id-13 div.sk-estimator:hover label.sk-toggleable__label-arrow:before {color: black;}#sk-container-id-13 div.sk-toggleable__content {max-height: 0;max-width: 0;overflow: hidden;text-align: left;background-color: #f0f8ff;}#sk-container-id-13 div.sk-toggleable__content pre {margin: 0.2em;color: black;border-radius: 0.25em;background-color: #f0f8ff;}#sk-container-id-13 input.sk-toggleable__control:checked~div.sk-toggleable__content {max-height: 200px;max-width: 100%;overflow: auto;}#sk-container-id-13 input.sk-toggleable__control:checked~label.sk-toggleable__label-arrow:before {content: \"▾\";}#sk-container-id-13 div.sk-estimator input.sk-toggleable__control:checked~label.sk-toggleable__label {background-color: #d4ebff;}#sk-container-id-13 div.sk-label input.sk-toggleable__control:checked~label.sk-toggleable__label {background-color: #d4ebff;}#sk-container-id-13 input.sk-hidden--visually {border: 0;clip: rect(1px 1px 1px 1px);clip: rect(1px, 1px, 1px, 1px);height: 1px;margin: -1px;overflow: hidden;padding: 0;position: absolute;width: 1px;}#sk-container-id-13 div.sk-estimator {font-family: monospace;background-color: #f0f8ff;border: 1px dotted black;border-radius: 0.25em;box-sizing: border-box;margin-bottom: 0.5em;}#sk-container-id-13 div.sk-estimator:hover {background-color: #d4ebff;}#sk-container-id-13 div.sk-parallel-item::after {content: \"\";width: 100%;border-bottom: 1px solid gray;flex-grow: 1;}#sk-container-id-13 div.sk-label:hover label.sk-toggleable__label {background-color: #d4ebff;}#sk-container-id-13 div.sk-serial::before {content: \"\";position: absolute;border-left: 1px solid gray;box-sizing: border-box;top: 0;bottom: 0;left: 50%;z-index: 0;}#sk-container-id-13 div.sk-serial {display: flex;flex-direction: column;align-items: center;background-color: white;padding-right: 0.2em;padding-left: 0.2em;position: relative;}#sk-container-id-13 div.sk-item {position: relative;z-index: 1;}#sk-container-id-13 div.sk-parallel {display: flex;align-items: stretch;justify-content: center;background-color: white;position: relative;}#sk-container-id-13 div.sk-item::before, #sk-container-id-13 div.sk-parallel-item::before {content: \"\";position: absolute;border-left: 1px solid gray;box-sizing: border-box;top: 0;bottom: 0;left: 50%;z-index: -1;}#sk-container-id-13 div.sk-parallel-item {display: flex;flex-direction: column;z-index: 1;position: relative;background-color: white;}#sk-container-id-13 div.sk-parallel-item:first-child::after {align-self: flex-end;width: 50%;}#sk-container-id-13 div.sk-parallel-item:last-child::after {align-self: flex-start;width: 50%;}#sk-container-id-13 div.sk-parallel-item:only-child::after {width: 0;}#sk-container-id-13 div.sk-dashed-wrapped {border: 1px dashed gray;margin: 0 0.4em 0.5em 0.4em;box-sizing: border-box;padding-bottom: 0.4em;background-color: white;}#sk-container-id-13 div.sk-label label {font-family: monospace;font-weight: bold;display: inline-block;line-height: 1.2em;}#sk-container-id-13 div.sk-label-container {text-align: center;}#sk-container-id-13 div.sk-container {/* jupyter's `normalize.less` sets `[hidden] { display: none; }` but bootstrap.min.css set `[hidden] { display: none !important; }` so we also need the `!important` here to be able to override the default hidden behavior on the sphinx rendered scikit-learn.org. See: https://github.com/scikit-learn/scikit-learn/issues/21755 */display: inline-block !important;position: relative;}#sk-container-id-13 div.sk-text-repr-fallback {display: none;}</style><div id=\"sk-container-id-13\" class=\"sk-top-container\"><div class=\"sk-text-repr-fallback\"><pre>XGBClassifier(base_score=None, booster=None, callbacks=None,\n",
              "              colsample_bylevel=None, colsample_bynode=None,\n",
              "              colsample_bytree=None, early_stopping_rounds=None,\n",
              "              enable_categorical=False, eval_metric=None, feature_types=None,\n",
              "              gamma=None, gpu_id=None, grow_policy=None, importance_type=None,\n",
              "              interaction_constraints=None, learning_rate=None, max_bin=None,\n",
              "              max_cat_threshold=None, max_cat_to_onehot=None,\n",
              "              max_delta_step=None, max_depth=None, max_leaves=None,\n",
              "              min_child_weight=None, missing=nan, monotone_constraints=None,\n",
              "              n_estimators=100, n_jobs=None, num_parallel_tree=None,\n",
              "              objective=&#x27;multi:softprob&#x27;, predictor=None, ...)</pre><b>In a Jupyter environment, please rerun this cell to show the HTML representation or trust the notebook. <br />On GitHub, the HTML representation is unable to render, please try loading this page with nbviewer.org.</b></div><div class=\"sk-container\" hidden><div class=\"sk-item\"><div class=\"sk-estimator sk-toggleable\"><input class=\"sk-toggleable__control sk-hidden--visually\" id=\"sk-estimator-id-13\" type=\"checkbox\" checked><label for=\"sk-estimator-id-13\" class=\"sk-toggleable__label sk-toggleable__label-arrow\">XGBClassifier</label><div class=\"sk-toggleable__content\"><pre>XGBClassifier(base_score=None, booster=None, callbacks=None,\n",
              "              colsample_bylevel=None, colsample_bynode=None,\n",
              "              colsample_bytree=None, early_stopping_rounds=None,\n",
              "              enable_categorical=False, eval_metric=None, feature_types=None,\n",
              "              gamma=None, gpu_id=None, grow_policy=None, importance_type=None,\n",
              "              interaction_constraints=None, learning_rate=None, max_bin=None,\n",
              "              max_cat_threshold=None, max_cat_to_onehot=None,\n",
              "              max_delta_step=None, max_depth=None, max_leaves=None,\n",
              "              min_child_weight=None, missing=nan, monotone_constraints=None,\n",
              "              n_estimators=100, n_jobs=None, num_parallel_tree=None,\n",
              "              objective=&#x27;multi:softprob&#x27;, predictor=None, ...)</pre></div></div></div></div></div>"
            ]
          },
          "metadata": {},
          "execution_count": 112
        }
      ]
    },
    {
      "cell_type": "code",
      "source": [
        "y_xg=xg.predict(X_test)"
      ],
      "metadata": {
        "id": "zkz2Fyh_7JEw"
      },
      "execution_count": 114,
      "outputs": []
    },
    {
      "cell_type": "code",
      "source": [
        "print(np.concatenate((y_xg.reshape(len(y_xg),1),y_test.reshape(len(y_test),1)),1))"
      ],
      "metadata": {
        "colab": {
          "base_uri": "https://localhost:8080/"
        },
        "id": "LQYK4f7r7N7P",
        "outputId": "69cd692e-857b-4554-d6ca-77e6fca058a3"
      },
      "execution_count": 115,
      "outputs": [
        {
          "output_type": "stream",
          "name": "stdout",
          "text": [
            "[[0 5]\n",
            " [0 3]\n",
            " [2 1]\n",
            " ...\n",
            " [2 7]\n",
            " [0 9]\n",
            " [1 1]]\n"
          ]
        }
      ]
    },
    {
      "cell_type": "code",
      "source": [
        "from sklearn.metrics import accuracy_score #Metric scoring functions\n",
        "accuracy_score(y_test, y_xg)"
      ],
      "metadata": {
        "colab": {
          "base_uri": "https://localhost:8080/"
        },
        "id": "bEl3qvRD7W8u",
        "outputId": "fee7eb24-f0e6-46b8-fe93-4f39308f4ed3"
      },
      "execution_count": 116,
      "outputs": [
        {
          "output_type": "execute_result",
          "data": {
            "text/plain": [
              "0.4676760394136025"
            ]
          },
          "metadata": {},
          "execution_count": 116
        }
      ]
    },
    {
      "cell_type": "code",
      "source": [
        "from sklearn.metrics import classification_report #Precision, recall, f1-score and support\n",
        "print(classification_report(y_test, y_xg))"
      ],
      "metadata": {
        "colab": {
          "base_uri": "https://localhost:8080/"
        },
        "id": "DfagTLBz7aHV",
        "outputId": "f100c1f3-771f-4cc4-b79f-1a2df3dd2244"
      },
      "execution_count": 117,
      "outputs": [
        {
          "output_type": "stream",
          "name": "stdout",
          "text": [
            "              precision    recall  f1-score   support\n",
            "\n",
            "           0       0.48      0.78      0.59       814\n",
            "           1       0.49      0.32      0.39       452\n",
            "           2       0.65      0.63      0.64       460\n",
            "           3       0.12      0.07      0.09       222\n",
            "           4       0.59      0.28      0.38       268\n",
            "           5       0.39      0.23      0.29       265\n",
            "           6       0.22      0.23      0.22       258\n",
            "           7       0.48      0.39      0.43       441\n",
            "           8       0.43      0.37      0.40       431\n",
            "           9       0.50      0.59      0.54       550\n",
            "\n",
            "    accuracy                           0.47      4161\n",
            "   macro avg       0.43      0.39      0.40      4161\n",
            "weighted avg       0.46      0.47      0.45      4161\n",
            "\n"
          ]
        }
      ]
    },
    {
      "cell_type": "markdown",
      "source": [
        "##Artificial Neural Network"
      ],
      "metadata": {
        "id": "rF4EbG3v8LR6"
      }
    },
    {
      "cell_type": "code",
      "source": [
        "ann=tf.keras.models.Sequential()"
      ],
      "metadata": {
        "id": "HNqgL2K87qdO"
      },
      "execution_count": 121,
      "outputs": []
    },
    {
      "cell_type": "code",
      "source": [
        "ann.add(tf.keras.layers.Dense(units=6,activation='relu'))  #units=13869 as per calculations"
      ],
      "metadata": {
        "id": "UDlYmxyW8iGG"
      },
      "execution_count": 145,
      "outputs": []
    },
    {
      "cell_type": "code",
      "source": [
        "ann.add(tf.keras.layers.Dense(units=6,activation='relu'))\n"
      ],
      "metadata": {
        "id": "EM4Sevz88xsY"
      },
      "execution_count": 146,
      "outputs": []
    },
    {
      "cell_type": "code",
      "source": [
        "ann.add(tf.keras.layers.Dense(units=1,activation='sigmoid'))"
      ],
      "metadata": {
        "id": "0QzHr48482Av"
      },
      "execution_count": 147,
      "outputs": []
    },
    {
      "cell_type": "code",
      "source": [
        "ann.compile(optimizer='adam',loss='categorical_crossentropy')"
      ],
      "metadata": {
        "id": "bzMTdrYG85RO"
      },
      "execution_count": 148,
      "outputs": []
    },
    {
      "cell_type": "code",
      "source": [
        "ann.fit(X_train,y_train,batch_size=32,epochs=25)"
      ],
      "metadata": {
        "id": "n8KWtseV91Ns"
      },
      "execution_count": null,
      "outputs": []
    },
    {
      "cell_type": "code",
      "source": [
        "y_ann=ann.predict(X_test)"
      ],
      "metadata": {
        "id": "PQQGKT59BG0i"
      },
      "execution_count": null,
      "outputs": []
    },
    {
      "cell_type": "code",
      "source": [
        "from sklearn.metrics import accuracy_score #Metric scoring functions\n",
        "accuracy_score(y_test, y_ann)"
      ],
      "metadata": {
        "id": "De219bT5BKlY"
      },
      "execution_count": null,
      "outputs": []
    }
  ]
}